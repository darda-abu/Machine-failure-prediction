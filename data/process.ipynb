{
 "cells": [
  {
   "cell_type": "markdown",
   "metadata": {},
   "source": []
  },
  {
   "cell_type": "code",
   "execution_count": 42,
   "metadata": {},
   "outputs": [],
   "source": [
    "import numpy as np\n",
    "import pandas as pd"
   ]
  },
  {
   "cell_type": "code",
   "execution_count": 43,
   "metadata": {},
   "outputs": [
    {
     "data": {
      "text/html": [
       "<div>\n",
       "<style scoped>\n",
       "    .dataframe tbody tr th:only-of-type {\n",
       "        vertical-align: middle;\n",
       "    }\n",
       "\n",
       "    .dataframe tbody tr th {\n",
       "        vertical-align: top;\n",
       "    }\n",
       "\n",
       "    .dataframe thead th {\n",
       "        text-align: right;\n",
       "    }\n",
       "</style>\n",
       "<table border=\"1\" class=\"dataframe\">\n",
       "  <thead>\n",
       "    <tr style=\"text-align: right;\">\n",
       "      <th></th>\n",
       "      <th>UDI</th>\n",
       "      <th>Product ID</th>\n",
       "      <th>Type</th>\n",
       "      <th>Air temperature [K]</th>\n",
       "      <th>Process temperature [K]</th>\n",
       "      <th>Rotational speed [rpm]</th>\n",
       "      <th>Torque [Nm]</th>\n",
       "      <th>Tool wear [min]</th>\n",
       "      <th>Target</th>\n",
       "      <th>Failure Type</th>\n",
       "    </tr>\n",
       "  </thead>\n",
       "  <tbody>\n",
       "    <tr>\n",
       "      <th>0</th>\n",
       "      <td>1</td>\n",
       "      <td>M14860</td>\n",
       "      <td>M</td>\n",
       "      <td>298.1</td>\n",
       "      <td>308.6</td>\n",
       "      <td>1551</td>\n",
       "      <td>42.8</td>\n",
       "      <td>0</td>\n",
       "      <td>0</td>\n",
       "      <td>No Failure</td>\n",
       "    </tr>\n",
       "    <tr>\n",
       "      <th>1</th>\n",
       "      <td>2</td>\n",
       "      <td>L47181</td>\n",
       "      <td>L</td>\n",
       "      <td>298.2</td>\n",
       "      <td>308.7</td>\n",
       "      <td>1408</td>\n",
       "      <td>46.3</td>\n",
       "      <td>3</td>\n",
       "      <td>0</td>\n",
       "      <td>No Failure</td>\n",
       "    </tr>\n",
       "    <tr>\n",
       "      <th>2</th>\n",
       "      <td>3</td>\n",
       "      <td>L47182</td>\n",
       "      <td>L</td>\n",
       "      <td>298.1</td>\n",
       "      <td>308.5</td>\n",
       "      <td>1498</td>\n",
       "      <td>49.4</td>\n",
       "      <td>5</td>\n",
       "      <td>0</td>\n",
       "      <td>No Failure</td>\n",
       "    </tr>\n",
       "    <tr>\n",
       "      <th>3</th>\n",
       "      <td>4</td>\n",
       "      <td>L47183</td>\n",
       "      <td>L</td>\n",
       "      <td>298.2</td>\n",
       "      <td>308.6</td>\n",
       "      <td>1433</td>\n",
       "      <td>39.5</td>\n",
       "      <td>7</td>\n",
       "      <td>0</td>\n",
       "      <td>No Failure</td>\n",
       "    </tr>\n",
       "    <tr>\n",
       "      <th>4</th>\n",
       "      <td>5</td>\n",
       "      <td>L47184</td>\n",
       "      <td>L</td>\n",
       "      <td>298.2</td>\n",
       "      <td>308.7</td>\n",
       "      <td>1408</td>\n",
       "      <td>40.0</td>\n",
       "      <td>9</td>\n",
       "      <td>0</td>\n",
       "      <td>No Failure</td>\n",
       "    </tr>\n",
       "  </tbody>\n",
       "</table>\n",
       "</div>"
      ],
      "text/plain": [
       "   UDI Product ID Type  Air temperature [K]  Process temperature [K]  \\\n",
       "0    1     M14860    M                298.1                    308.6   \n",
       "1    2     L47181    L                298.2                    308.7   \n",
       "2    3     L47182    L                298.1                    308.5   \n",
       "3    4     L47183    L                298.2                    308.6   \n",
       "4    5     L47184    L                298.2                    308.7   \n",
       "\n",
       "   Rotational speed [rpm]  Torque [Nm]  Tool wear [min]  Target Failure Type  \n",
       "0                    1551         42.8                0       0   No Failure  \n",
       "1                    1408         46.3                3       0   No Failure  \n",
       "2                    1498         49.4                5       0   No Failure  \n",
       "3                    1433         39.5                7       0   No Failure  \n",
       "4                    1408         40.0                9       0   No Failure  "
      ]
     },
     "execution_count": 43,
     "metadata": {},
     "output_type": "execute_result"
    }
   ],
   "source": [
    "df = pd.read_csv(\"../predictive_maintenance.csv\")\n",
    "df.head()"
   ]
  },
  {
   "cell_type": "code",
   "execution_count": 44,
   "metadata": {},
   "outputs": [
    {
     "data": {
      "text/html": [
       "<div>\n",
       "<style scoped>\n",
       "    .dataframe tbody tr th:only-of-type {\n",
       "        vertical-align: middle;\n",
       "    }\n",
       "\n",
       "    .dataframe tbody tr th {\n",
       "        vertical-align: top;\n",
       "    }\n",
       "\n",
       "    .dataframe thead th {\n",
       "        text-align: right;\n",
       "    }\n",
       "</style>\n",
       "<table border=\"1\" class=\"dataframe\">\n",
       "  <thead>\n",
       "    <tr style=\"text-align: right;\">\n",
       "      <th></th>\n",
       "      <th>count</th>\n",
       "      <th>mean</th>\n",
       "      <th>std</th>\n",
       "      <th>min</th>\n",
       "      <th>25%</th>\n",
       "      <th>50%</th>\n",
       "      <th>75%</th>\n",
       "      <th>max</th>\n",
       "    </tr>\n",
       "  </thead>\n",
       "  <tbody>\n",
       "    <tr>\n",
       "      <th>UDI</th>\n",
       "      <td>10000.0</td>\n",
       "      <td>5000.50000</td>\n",
       "      <td>2886.895680</td>\n",
       "      <td>1.0</td>\n",
       "      <td>2500.75</td>\n",
       "      <td>5000.5</td>\n",
       "      <td>7500.25</td>\n",
       "      <td>10000.0</td>\n",
       "    </tr>\n",
       "    <tr>\n",
       "      <th>Air temperature [K]</th>\n",
       "      <td>10000.0</td>\n",
       "      <td>300.00493</td>\n",
       "      <td>2.000259</td>\n",
       "      <td>295.3</td>\n",
       "      <td>298.30</td>\n",
       "      <td>300.1</td>\n",
       "      <td>301.50</td>\n",
       "      <td>304.5</td>\n",
       "    </tr>\n",
       "    <tr>\n",
       "      <th>Process temperature [K]</th>\n",
       "      <td>10000.0</td>\n",
       "      <td>310.00556</td>\n",
       "      <td>1.483734</td>\n",
       "      <td>305.7</td>\n",
       "      <td>308.80</td>\n",
       "      <td>310.1</td>\n",
       "      <td>311.10</td>\n",
       "      <td>313.8</td>\n",
       "    </tr>\n",
       "    <tr>\n",
       "      <th>Rotational speed [rpm]</th>\n",
       "      <td>10000.0</td>\n",
       "      <td>1538.77610</td>\n",
       "      <td>179.284096</td>\n",
       "      <td>1168.0</td>\n",
       "      <td>1423.00</td>\n",
       "      <td>1503.0</td>\n",
       "      <td>1612.00</td>\n",
       "      <td>2886.0</td>\n",
       "    </tr>\n",
       "    <tr>\n",
       "      <th>Torque [Nm]</th>\n",
       "      <td>10000.0</td>\n",
       "      <td>39.98691</td>\n",
       "      <td>9.968934</td>\n",
       "      <td>3.8</td>\n",
       "      <td>33.20</td>\n",
       "      <td>40.1</td>\n",
       "      <td>46.80</td>\n",
       "      <td>76.6</td>\n",
       "    </tr>\n",
       "    <tr>\n",
       "      <th>Tool wear [min]</th>\n",
       "      <td>10000.0</td>\n",
       "      <td>107.95100</td>\n",
       "      <td>63.654147</td>\n",
       "      <td>0.0</td>\n",
       "      <td>53.00</td>\n",
       "      <td>108.0</td>\n",
       "      <td>162.00</td>\n",
       "      <td>253.0</td>\n",
       "    </tr>\n",
       "    <tr>\n",
       "      <th>Target</th>\n",
       "      <td>10000.0</td>\n",
       "      <td>0.03390</td>\n",
       "      <td>0.180981</td>\n",
       "      <td>0.0</td>\n",
       "      <td>0.00</td>\n",
       "      <td>0.0</td>\n",
       "      <td>0.00</td>\n",
       "      <td>1.0</td>\n",
       "    </tr>\n",
       "  </tbody>\n",
       "</table>\n",
       "</div>"
      ],
      "text/plain": [
       "                           count        mean          std     min      25%  \\\n",
       "UDI                      10000.0  5000.50000  2886.895680     1.0  2500.75   \n",
       "Air temperature [K]      10000.0   300.00493     2.000259   295.3   298.30   \n",
       "Process temperature [K]  10000.0   310.00556     1.483734   305.7   308.80   \n",
       "Rotational speed [rpm]   10000.0  1538.77610   179.284096  1168.0  1423.00   \n",
       "Torque [Nm]              10000.0    39.98691     9.968934     3.8    33.20   \n",
       "Tool wear [min]          10000.0   107.95100    63.654147     0.0    53.00   \n",
       "Target                   10000.0     0.03390     0.180981     0.0     0.00   \n",
       "\n",
       "                            50%      75%      max  \n",
       "UDI                      5000.5  7500.25  10000.0  \n",
       "Air temperature [K]       300.1   301.50    304.5  \n",
       "Process temperature [K]   310.1   311.10    313.8  \n",
       "Rotational speed [rpm]   1503.0  1612.00   2886.0  \n",
       "Torque [Nm]                40.1    46.80     76.6  \n",
       "Tool wear [min]           108.0   162.00    253.0  \n",
       "Target                      0.0     0.00      1.0  "
      ]
     },
     "execution_count": 44,
     "metadata": {},
     "output_type": "execute_result"
    }
   ],
   "source": [
    "df.describe().transpose()"
   ]
  },
  {
   "cell_type": "code",
   "execution_count": 45,
   "metadata": {},
   "outputs": [
    {
     "name": "stdout",
     "output_type": "stream",
     "text": [
      "<class 'pandas.core.frame.DataFrame'>\n",
      "RangeIndex: 10000 entries, 0 to 9999\n",
      "Data columns (total 10 columns):\n",
      " #   Column                   Non-Null Count  Dtype  \n",
      "---  ------                   --------------  -----  \n",
      " 0   UDI                      10000 non-null  int64  \n",
      " 1   Product ID               10000 non-null  object \n",
      " 2   Type                     10000 non-null  object \n",
      " 3   Air temperature [K]      10000 non-null  float64\n",
      " 4   Process temperature [K]  10000 non-null  float64\n",
      " 5   Rotational speed [rpm]   10000 non-null  int64  \n",
      " 6   Torque [Nm]              10000 non-null  float64\n",
      " 7   Tool wear [min]          10000 non-null  int64  \n",
      " 8   Target                   10000 non-null  int64  \n",
      " 9   Failure Type             10000 non-null  object \n",
      "dtypes: float64(3), int64(4), object(3)\n",
      "memory usage: 781.4+ KB\n"
     ]
    }
   ],
   "source": [
    "df.info()"
   ]
  },
  {
   "cell_type": "code",
   "execution_count": 46,
   "metadata": {},
   "outputs": [
    {
     "data": {
      "text/plain": [
       "UDI                        10000\n",
       "Product ID                 10000\n",
       "Type                           3\n",
       "Air temperature [K]           93\n",
       "Process temperature [K]       82\n",
       "Rotational speed [rpm]       941\n",
       "Torque [Nm]                  577\n",
       "Tool wear [min]              246\n",
       "Target                         2\n",
       "Failure Type                   6\n",
       "dtype: int64"
      ]
     },
     "execution_count": 46,
     "metadata": {},
     "output_type": "execute_result"
    }
   ],
   "source": [
    "df.nunique()"
   ]
  },
  {
   "cell_type": "code",
   "execution_count": 47,
   "metadata": {},
   "outputs": [
    {
     "data": {
      "text/plain": [
       "Type\n",
       "L    6000\n",
       "M    2997\n",
       "H    1003\n",
       "Name: count, dtype: int64"
      ]
     },
     "execution_count": 47,
     "metadata": {},
     "output_type": "execute_result"
    }
   ],
   "source": [
    "df[\"Type\"].value_counts()"
   ]
  },
  {
   "cell_type": "code",
   "execution_count": 48,
   "metadata": {},
   "outputs": [
    {
     "data": {
      "text/plain": [
       "Failure Type\n",
       "No Failure                  9652\n",
       "Heat Dissipation Failure     112\n",
       "Power Failure                 95\n",
       "Overstrain Failure            78\n",
       "Tool Wear Failure             45\n",
       "Random Failures               18\n",
       "Name: count, dtype: int64"
      ]
     },
     "execution_count": 48,
     "metadata": {},
     "output_type": "execute_result"
    }
   ],
   "source": [
    "df[\"Failure Type\"].value_counts()"
   ]
  },
  {
   "cell_type": "code",
   "execution_count": 49,
   "metadata": {},
   "outputs": [
    {
     "data": {
      "text/html": [
       "<div>\n",
       "<style scoped>\n",
       "    .dataframe tbody tr th:only-of-type {\n",
       "        vertical-align: middle;\n",
       "    }\n",
       "\n",
       "    .dataframe tbody tr th {\n",
       "        vertical-align: top;\n",
       "    }\n",
       "\n",
       "    .dataframe thead th {\n",
       "        text-align: right;\n",
       "    }\n",
       "</style>\n",
       "<table border=\"1\" class=\"dataframe\">\n",
       "  <thead>\n",
       "    <tr style=\"text-align: right;\">\n",
       "      <th></th>\n",
       "      <th>Air temperature [K]</th>\n",
       "      <th>Process temperature [K]</th>\n",
       "      <th>Rotational speed [rpm]</th>\n",
       "      <th>Torque [Nm]</th>\n",
       "      <th>Tool wear [min]</th>\n",
       "      <th>Type_H</th>\n",
       "      <th>Type_L</th>\n",
       "      <th>Type_M</th>\n",
       "    </tr>\n",
       "  </thead>\n",
       "  <tbody>\n",
       "    <tr>\n",
       "      <th>0</th>\n",
       "      <td>298</td>\n",
       "      <td>308</td>\n",
       "      <td>1551</td>\n",
       "      <td>42</td>\n",
       "      <td>0</td>\n",
       "      <td>0</td>\n",
       "      <td>0</td>\n",
       "      <td>1</td>\n",
       "    </tr>\n",
       "    <tr>\n",
       "      <th>1</th>\n",
       "      <td>298</td>\n",
       "      <td>308</td>\n",
       "      <td>1408</td>\n",
       "      <td>46</td>\n",
       "      <td>3</td>\n",
       "      <td>0</td>\n",
       "      <td>1</td>\n",
       "      <td>0</td>\n",
       "    </tr>\n",
       "    <tr>\n",
       "      <th>2</th>\n",
       "      <td>298</td>\n",
       "      <td>308</td>\n",
       "      <td>1498</td>\n",
       "      <td>49</td>\n",
       "      <td>5</td>\n",
       "      <td>0</td>\n",
       "      <td>1</td>\n",
       "      <td>0</td>\n",
       "    </tr>\n",
       "    <tr>\n",
       "      <th>3</th>\n",
       "      <td>298</td>\n",
       "      <td>308</td>\n",
       "      <td>1433</td>\n",
       "      <td>39</td>\n",
       "      <td>7</td>\n",
       "      <td>0</td>\n",
       "      <td>1</td>\n",
       "      <td>0</td>\n",
       "    </tr>\n",
       "    <tr>\n",
       "      <th>4</th>\n",
       "      <td>298</td>\n",
       "      <td>308</td>\n",
       "      <td>1408</td>\n",
       "      <td>40</td>\n",
       "      <td>9</td>\n",
       "      <td>0</td>\n",
       "      <td>1</td>\n",
       "      <td>0</td>\n",
       "    </tr>\n",
       "    <tr>\n",
       "      <th>...</th>\n",
       "      <td>...</td>\n",
       "      <td>...</td>\n",
       "      <td>...</td>\n",
       "      <td>...</td>\n",
       "      <td>...</td>\n",
       "      <td>...</td>\n",
       "      <td>...</td>\n",
       "      <td>...</td>\n",
       "    </tr>\n",
       "    <tr>\n",
       "      <th>9995</th>\n",
       "      <td>298</td>\n",
       "      <td>308</td>\n",
       "      <td>1604</td>\n",
       "      <td>29</td>\n",
       "      <td>14</td>\n",
       "      <td>0</td>\n",
       "      <td>0</td>\n",
       "      <td>1</td>\n",
       "    </tr>\n",
       "    <tr>\n",
       "      <th>9996</th>\n",
       "      <td>298</td>\n",
       "      <td>308</td>\n",
       "      <td>1632</td>\n",
       "      <td>31</td>\n",
       "      <td>17</td>\n",
       "      <td>1</td>\n",
       "      <td>0</td>\n",
       "      <td>0</td>\n",
       "    </tr>\n",
       "    <tr>\n",
       "      <th>9997</th>\n",
       "      <td>299</td>\n",
       "      <td>308</td>\n",
       "      <td>1645</td>\n",
       "      <td>33</td>\n",
       "      <td>22</td>\n",
       "      <td>0</td>\n",
       "      <td>0</td>\n",
       "      <td>1</td>\n",
       "    </tr>\n",
       "    <tr>\n",
       "      <th>9998</th>\n",
       "      <td>299</td>\n",
       "      <td>308</td>\n",
       "      <td>1408</td>\n",
       "      <td>48</td>\n",
       "      <td>25</td>\n",
       "      <td>1</td>\n",
       "      <td>0</td>\n",
       "      <td>0</td>\n",
       "    </tr>\n",
       "    <tr>\n",
       "      <th>9999</th>\n",
       "      <td>299</td>\n",
       "      <td>308</td>\n",
       "      <td>1500</td>\n",
       "      <td>40</td>\n",
       "      <td>30</td>\n",
       "      <td>0</td>\n",
       "      <td>0</td>\n",
       "      <td>1</td>\n",
       "    </tr>\n",
       "  </tbody>\n",
       "</table>\n",
       "<p>10000 rows × 8 columns</p>\n",
       "</div>"
      ],
      "text/plain": [
       "      Air temperature [K]  Process temperature [K]  Rotational speed [rpm]  \\\n",
       "0                     298                      308                    1551   \n",
       "1                     298                      308                    1408   \n",
       "2                     298                      308                    1498   \n",
       "3                     298                      308                    1433   \n",
       "4                     298                      308                    1408   \n",
       "...                   ...                      ...                     ...   \n",
       "9995                  298                      308                    1604   \n",
       "9996                  298                      308                    1632   \n",
       "9997                  299                      308                    1645   \n",
       "9998                  299                      308                    1408   \n",
       "9999                  299                      308                    1500   \n",
       "\n",
       "      Torque [Nm]  Tool wear [min]  Type_H  Type_L  Type_M  \n",
       "0              42                0       0       0       1  \n",
       "1              46                3       0       1       0  \n",
       "2              49                5       0       1       0  \n",
       "3              39                7       0       1       0  \n",
       "4              40                9       0       1       0  \n",
       "...           ...              ...     ...     ...     ...  \n",
       "9995           29               14       0       0       1  \n",
       "9996           31               17       1       0       0  \n",
       "9997           33               22       0       0       1  \n",
       "9998           48               25       1       0       0  \n",
       "9999           40               30       0       0       1  \n",
       "\n",
       "[10000 rows x 8 columns]"
      ]
     },
     "execution_count": 49,
     "metadata": {},
     "output_type": "execute_result"
    }
   ],
   "source": [
    "X = df.drop(['UDI','Product ID','Target',\"Failure Type\"],axis=1)\n",
    "y = df['Failure Type']\n",
    "X = pd.get_dummies(X).astype('int')\n",
    "X"
   ]
  },
  {
   "cell_type": "code",
   "execution_count": 50,
   "metadata": {},
   "outputs": [],
   "source": [
    "X_columns = X.columns.to_numpy()"
   ]
  },
  {
   "cell_type": "code",
   "execution_count": 51,
   "metadata": {},
   "outputs": [
    {
     "data": {
      "text/plain": [
       "array([[0.33333333, 0.375     , 0.22293364, ..., 0.        , 0.        ,\n",
       "        1.        ],\n",
       "       [0.33333333, 0.375     , 0.13969732, ..., 0.        , 1.        ,\n",
       "        0.        ],\n",
       "       [0.33333333, 0.375     , 0.19208382, ..., 0.        , 1.        ,\n",
       "        0.        ],\n",
       "       ...,\n",
       "       [0.44444444, 0.375     , 0.27764843, ..., 0.        , 0.        ,\n",
       "        1.        ],\n",
       "       [0.44444444, 0.375     , 0.13969732, ..., 1.        , 0.        ,\n",
       "        0.        ],\n",
       "       [0.44444444, 0.375     , 0.19324796, ..., 0.        , 0.        ,\n",
       "        1.        ]])"
      ]
     },
     "execution_count": 51,
     "metadata": {},
     "output_type": "execute_result"
    }
   ],
   "source": [
    "from sklearn.preprocessing import MinMaxScaler\n",
    "scaler = MinMaxScaler()\n",
    "X_scaled = scaler.fit_transform(X)\n",
    "X_scaled"
   ]
  },
  {
   "cell_type": "code",
   "execution_count": 52,
   "metadata": {},
   "outputs": [
    {
     "data": {
      "text/plain": [
       "5"
      ]
     },
     "execution_count": 52,
     "metadata": {},
     "output_type": "execute_result"
    }
   ],
   "source": [
    "from sklearn.preprocessing import LabelEncoder\n",
    "label_encoder = LabelEncoder()\n",
    "y = label_encoder.fit_transform(y)\n",
    "y.max()"
   ]
  },
  {
   "cell_type": "code",
   "execution_count": 53,
   "metadata": {},
   "outputs": [],
   "source": [
    "from sklearn.model_selection import train_test_split\n",
    "X_train, X_test, y_train, y_test = train_test_split(X_scaled, y, test_size=0.2, random_state=42)"
   ]
  },
  {
   "cell_type": "code",
   "execution_count": 54,
   "metadata": {},
   "outputs": [
    {
     "name": "stdout",
     "output_type": "stream",
     "text": [
      "Requirement already satisfied: imbalanced-learn==0.12.2 in c:\\users\\bs-test\\appdata\\local\\programs\\python\\python311\\lib\\site-packages (0.12.2)\n",
      "Requirement already satisfied: numpy>=1.17.3 in c:\\users\\bs-test\\appdata\\local\\programs\\python\\python311\\lib\\site-packages (from imbalanced-learn==0.12.2) (1.26.4)\n",
      "Requirement already satisfied: scipy>=1.5.0 in c:\\users\\bs-test\\appdata\\local\\programs\\python\\python311\\lib\\site-packages (from imbalanced-learn==0.12.2) (1.11.4)\n",
      "Requirement already satisfied: scikit-learn>=1.0.2 in c:\\users\\bs-test\\appdata\\local\\programs\\python\\python311\\lib\\site-packages (from imbalanced-learn==0.12.2) (1.4.2)\n",
      "Requirement already satisfied: joblib>=1.1.1 in c:\\users\\bs-test\\appdata\\local\\programs\\python\\python311\\lib\\site-packages (from imbalanced-learn==0.12.2) (1.3.2)\n",
      "Requirement already satisfied: threadpoolctl>=2.0.0 in c:\\users\\bs-test\\appdata\\local\\programs\\python\\python311\\lib\\site-packages (from imbalanced-learn==0.12.2) (3.5.0)\n"
     ]
    }
   ],
   "source": [
    "!pip install imbalanced-learn==0.12.2"
   ]
  },
  {
   "cell_type": "code",
   "execution_count": 55,
   "metadata": {},
   "outputs": [],
   "source": [
    "from imblearn.over_sampling import SMOTE \n",
    "sm = SMOTE(sampling_strategy=\"auto\") \n",
    "X_train_resampled, y_train_resampled = sm.fit_resample(X_train, y_train) "
   ]
  },
  {
   "cell_type": "code",
   "execution_count": 56,
   "metadata": {},
   "outputs": [],
   "source": [
    "# from imblearn.over_sampling import SMOTE \n",
    "# sm = SMOTE(sampling_strategy=\"auto\") \n",
    "# X_resampled, y_resampled = sm.fit_resample(X_scaled, y)   "
   ]
  },
  {
   "cell_type": "code",
   "execution_count": 57,
   "metadata": {},
   "outputs": [
    {
     "data": {
      "text/plain": [
       "(array([0, 1, 2, 3, 4, 5]),\n",
       " array([7717, 7717, 7717, 7717, 7717, 7717], dtype=int64))"
      ]
     },
     "execution_count": 57,
     "metadata": {},
     "output_type": "execute_result"
    }
   ],
   "source": [
    "np.unique(y_train_resampled,return_counts=True)"
   ]
  },
  {
   "cell_type": "code",
   "execution_count": 58,
   "metadata": {},
   "outputs": [
    {
     "data": {
      "text/plain": [
       "(array([0, 1, 2, 3, 4, 5]),\n",
       " array([7717, 7717, 7717, 7717, 7717, 7717], dtype=int64))"
      ]
     },
     "execution_count": 58,
     "metadata": {},
     "output_type": "execute_result"
    }
   ],
   "source": [
    "np.unique(y_train_resampled,return_counts=True)"
   ]
  },
  {
   "cell_type": "code",
   "execution_count": 59,
   "metadata": {},
   "outputs": [],
   "source": [
    "X_train_resampled = pd.DataFrame(X_train_resampled, columns=X_columns)\n",
    "y_train_resampled = pd.DataFrame(y_train_resampled, columns=['Target'])\n",
    "X_test = pd.DataFrame(X_test, columns=X_columns)\n",
    "y_test = pd.DataFrame(y_test, columns=['Target'])"
   ]
  },
  {
   "cell_type": "code",
   "execution_count": 62,
   "metadata": {},
   "outputs": [
    {
     "data": {
      "text/html": [
       "<style type=\"text/css\">\n",
       "#T_67bfb_row8_col1 {\n",
       "  background-color: lightgreen;\n",
       "}\n",
       "</style>\n",
       "<table id=\"T_67bfb\">\n",
       "  <thead>\n",
       "    <tr>\n",
       "      <th class=\"blank level0\" >&nbsp;</th>\n",
       "      <th id=\"T_67bfb_level0_col0\" class=\"col_heading level0 col0\" >Description</th>\n",
       "      <th id=\"T_67bfb_level0_col1\" class=\"col_heading level0 col1\" >Value</th>\n",
       "    </tr>\n",
       "  </thead>\n",
       "  <tbody>\n",
       "    <tr>\n",
       "      <th id=\"T_67bfb_level0_row0\" class=\"row_heading level0 row0\" >0</th>\n",
       "      <td id=\"T_67bfb_row0_col0\" class=\"data row0 col0\" >Session id</td>\n",
       "      <td id=\"T_67bfb_row0_col1\" class=\"data row0 col1\" >42</td>\n",
       "    </tr>\n",
       "    <tr>\n",
       "      <th id=\"T_67bfb_level0_row1\" class=\"row_heading level0 row1\" >1</th>\n",
       "      <td id=\"T_67bfb_row1_col0\" class=\"data row1 col0\" >Target</td>\n",
       "      <td id=\"T_67bfb_row1_col1\" class=\"data row1 col1\" >Target</td>\n",
       "    </tr>\n",
       "    <tr>\n",
       "      <th id=\"T_67bfb_level0_row2\" class=\"row_heading level0 row2\" >2</th>\n",
       "      <td id=\"T_67bfb_row2_col0\" class=\"data row2 col0\" >Target type</td>\n",
       "      <td id=\"T_67bfb_row2_col1\" class=\"data row2 col1\" >Multiclass</td>\n",
       "    </tr>\n",
       "    <tr>\n",
       "      <th id=\"T_67bfb_level0_row3\" class=\"row_heading level0 row3\" >3</th>\n",
       "      <td id=\"T_67bfb_row3_col0\" class=\"data row3 col0\" >Original data shape</td>\n",
       "      <td id=\"T_67bfb_row3_col1\" class=\"data row3 col1\" >(48302, 9)</td>\n",
       "    </tr>\n",
       "    <tr>\n",
       "      <th id=\"T_67bfb_level0_row4\" class=\"row_heading level0 row4\" >4</th>\n",
       "      <td id=\"T_67bfb_row4_col0\" class=\"data row4 col0\" >Transformed data shape</td>\n",
       "      <td id=\"T_67bfb_row4_col1\" class=\"data row4 col1\" >(48302, 9)</td>\n",
       "    </tr>\n",
       "    <tr>\n",
       "      <th id=\"T_67bfb_level0_row5\" class=\"row_heading level0 row5\" >5</th>\n",
       "      <td id=\"T_67bfb_row5_col0\" class=\"data row5 col0\" >Transformed train set shape</td>\n",
       "      <td id=\"T_67bfb_row5_col1\" class=\"data row5 col1\" >(46302, 9)</td>\n",
       "    </tr>\n",
       "    <tr>\n",
       "      <th id=\"T_67bfb_level0_row6\" class=\"row_heading level0 row6\" >6</th>\n",
       "      <td id=\"T_67bfb_row6_col0\" class=\"data row6 col0\" >Transformed test set shape</td>\n",
       "      <td id=\"T_67bfb_row6_col1\" class=\"data row6 col1\" >(2000, 9)</td>\n",
       "    </tr>\n",
       "    <tr>\n",
       "      <th id=\"T_67bfb_level0_row7\" class=\"row_heading level0 row7\" >7</th>\n",
       "      <td id=\"T_67bfb_row7_col0\" class=\"data row7 col0\" >Numeric features</td>\n",
       "      <td id=\"T_67bfb_row7_col1\" class=\"data row7 col1\" >8</td>\n",
       "    </tr>\n",
       "    <tr>\n",
       "      <th id=\"T_67bfb_level0_row8\" class=\"row_heading level0 row8\" >8</th>\n",
       "      <td id=\"T_67bfb_row8_col0\" class=\"data row8 col0\" >Preprocess</td>\n",
       "      <td id=\"T_67bfb_row8_col1\" class=\"data row8 col1\" >True</td>\n",
       "    </tr>\n",
       "    <tr>\n",
       "      <th id=\"T_67bfb_level0_row9\" class=\"row_heading level0 row9\" >9</th>\n",
       "      <td id=\"T_67bfb_row9_col0\" class=\"data row9 col0\" >Imputation type</td>\n",
       "      <td id=\"T_67bfb_row9_col1\" class=\"data row9 col1\" >simple</td>\n",
       "    </tr>\n",
       "    <tr>\n",
       "      <th id=\"T_67bfb_level0_row10\" class=\"row_heading level0 row10\" >10</th>\n",
       "      <td id=\"T_67bfb_row10_col0\" class=\"data row10 col0\" >Numeric imputation</td>\n",
       "      <td id=\"T_67bfb_row10_col1\" class=\"data row10 col1\" >mean</td>\n",
       "    </tr>\n",
       "    <tr>\n",
       "      <th id=\"T_67bfb_level0_row11\" class=\"row_heading level0 row11\" >11</th>\n",
       "      <td id=\"T_67bfb_row11_col0\" class=\"data row11 col0\" >Categorical imputation</td>\n",
       "      <td id=\"T_67bfb_row11_col1\" class=\"data row11 col1\" >mode</td>\n",
       "    </tr>\n",
       "    <tr>\n",
       "      <th id=\"T_67bfb_level0_row12\" class=\"row_heading level0 row12\" >12</th>\n",
       "      <td id=\"T_67bfb_row12_col0\" class=\"data row12 col0\" >Fold Generator</td>\n",
       "      <td id=\"T_67bfb_row12_col1\" class=\"data row12 col1\" >StratifiedKFold</td>\n",
       "    </tr>\n",
       "    <tr>\n",
       "      <th id=\"T_67bfb_level0_row13\" class=\"row_heading level0 row13\" >13</th>\n",
       "      <td id=\"T_67bfb_row13_col0\" class=\"data row13 col0\" >Fold Number</td>\n",
       "      <td id=\"T_67bfb_row13_col1\" class=\"data row13 col1\" >10</td>\n",
       "    </tr>\n",
       "    <tr>\n",
       "      <th id=\"T_67bfb_level0_row14\" class=\"row_heading level0 row14\" >14</th>\n",
       "      <td id=\"T_67bfb_row14_col0\" class=\"data row14 col0\" >CPU Jobs</td>\n",
       "      <td id=\"T_67bfb_row14_col1\" class=\"data row14 col1\" >-1</td>\n",
       "    </tr>\n",
       "    <tr>\n",
       "      <th id=\"T_67bfb_level0_row15\" class=\"row_heading level0 row15\" >15</th>\n",
       "      <td id=\"T_67bfb_row15_col0\" class=\"data row15 col0\" >Use GPU</td>\n",
       "      <td id=\"T_67bfb_row15_col1\" class=\"data row15 col1\" >False</td>\n",
       "    </tr>\n",
       "    <tr>\n",
       "      <th id=\"T_67bfb_level0_row16\" class=\"row_heading level0 row16\" >16</th>\n",
       "      <td id=\"T_67bfb_row16_col0\" class=\"data row16 col0\" >Log Experiment</td>\n",
       "      <td id=\"T_67bfb_row16_col1\" class=\"data row16 col1\" >False</td>\n",
       "    </tr>\n",
       "    <tr>\n",
       "      <th id=\"T_67bfb_level0_row17\" class=\"row_heading level0 row17\" >17</th>\n",
       "      <td id=\"T_67bfb_row17_col0\" class=\"data row17 col0\" >Experiment Name</td>\n",
       "      <td id=\"T_67bfb_row17_col1\" class=\"data row17 col1\" >clf-default-name</td>\n",
       "    </tr>\n",
       "    <tr>\n",
       "      <th id=\"T_67bfb_level0_row18\" class=\"row_heading level0 row18\" >18</th>\n",
       "      <td id=\"T_67bfb_row18_col0\" class=\"data row18 col0\" >USI</td>\n",
       "      <td id=\"T_67bfb_row18_col1\" class=\"data row18 col1\" >8b5f</td>\n",
       "    </tr>\n",
       "  </tbody>\n",
       "</table>\n"
      ],
      "text/plain": [
       "<pandas.io.formats.style.Styler at 0x1f99e2f3fd0>"
      ]
     },
     "metadata": {},
     "output_type": "display_data"
    }
   ],
   "source": [
    "import pycaret \n",
    "from pycaret.classification import *\n",
    "s= setup(data = pd.concat([X_train_resampled, y_train_resampled], axis=1),\n",
    "          target = 'Target',\n",
    "          session_id = 42,\n",
    "          data_split_stratify = True,\n",
    "          index = False,\n",
    "          train_size = len(X_train),\n",
    "          test_data = pd.concat([X_test, y_test], axis=1))"
   ]
  },
  {
   "cell_type": "code",
   "execution_count": 63,
   "metadata": {},
   "outputs": [
    {
     "data": {
      "text/html": [],
      "text/plain": [
       "<IPython.core.display.HTML object>"
      ]
     },
     "metadata": {},
     "output_type": "display_data"
    },
    {
     "data": {
      "text/html": [
       "<style type=\"text/css\">\n",
       "#T_248b5 th {\n",
       "  text-align: left;\n",
       "}\n",
       "#T_248b5_row0_col0, #T_248b5_row0_col2, #T_248b5_row1_col0, #T_248b5_row1_col1, #T_248b5_row1_col3, #T_248b5_row1_col4, #T_248b5_row1_col5, #T_248b5_row1_col6, #T_248b5_row1_col7, #T_248b5_row2_col0, #T_248b5_row2_col1, #T_248b5_row2_col2, #T_248b5_row2_col3, #T_248b5_row2_col4, #T_248b5_row2_col5, #T_248b5_row2_col6, #T_248b5_row2_col7, #T_248b5_row3_col0, #T_248b5_row3_col1, #T_248b5_row3_col2, #T_248b5_row3_col3, #T_248b5_row3_col4, #T_248b5_row3_col5, #T_248b5_row3_col6, #T_248b5_row3_col7, #T_248b5_row4_col0, #T_248b5_row4_col1, #T_248b5_row4_col2, #T_248b5_row4_col3, #T_248b5_row4_col4, #T_248b5_row4_col5, #T_248b5_row4_col6, #T_248b5_row4_col7, #T_248b5_row5_col0, #T_248b5_row5_col1, #T_248b5_row5_col2, #T_248b5_row5_col3, #T_248b5_row5_col4, #T_248b5_row5_col5, #T_248b5_row5_col6, #T_248b5_row5_col7, #T_248b5_row6_col0, #T_248b5_row6_col1, #T_248b5_row6_col2, #T_248b5_row6_col3, #T_248b5_row6_col4, #T_248b5_row6_col5, #T_248b5_row6_col6, #T_248b5_row6_col7, #T_248b5_row7_col0, #T_248b5_row7_col1, #T_248b5_row7_col2, #T_248b5_row7_col3, #T_248b5_row7_col4, #T_248b5_row7_col5, #T_248b5_row7_col6, #T_248b5_row7_col7, #T_248b5_row8_col0, #T_248b5_row8_col1, #T_248b5_row8_col2, #T_248b5_row8_col3, #T_248b5_row8_col4, #T_248b5_row8_col5, #T_248b5_row8_col6, #T_248b5_row8_col7, #T_248b5_row9_col0, #T_248b5_row9_col1, #T_248b5_row9_col2, #T_248b5_row9_col3, #T_248b5_row9_col4, #T_248b5_row9_col5, #T_248b5_row9_col6, #T_248b5_row9_col7, #T_248b5_row10_col0, #T_248b5_row10_col1, #T_248b5_row10_col2, #T_248b5_row10_col3, #T_248b5_row10_col4, #T_248b5_row10_col5, #T_248b5_row10_col6, #T_248b5_row10_col7, #T_248b5_row11_col0, #T_248b5_row11_col1, #T_248b5_row11_col2, #T_248b5_row11_col3, #T_248b5_row11_col4, #T_248b5_row11_col5, #T_248b5_row11_col6, #T_248b5_row11_col7, #T_248b5_row12_col0, #T_248b5_row12_col1, #T_248b5_row12_col2, #T_248b5_row12_col3, #T_248b5_row12_col4, #T_248b5_row12_col5, #T_248b5_row12_col6, #T_248b5_row12_col7, #T_248b5_row13_col0, #T_248b5_row13_col1, #T_248b5_row13_col2, #T_248b5_row13_col3, #T_248b5_row13_col4, #T_248b5_row13_col5, #T_248b5_row13_col6, #T_248b5_row13_col7 {\n",
       "  text-align: left;\n",
       "}\n",
       "#T_248b5_row0_col1, #T_248b5_row0_col3, #T_248b5_row0_col4, #T_248b5_row0_col5, #T_248b5_row0_col6, #T_248b5_row0_col7, #T_248b5_row1_col2 {\n",
       "  text-align: left;\n",
       "  background-color: yellow;\n",
       "}\n",
       "#T_248b5_row0_col8, #T_248b5_row1_col8, #T_248b5_row2_col8, #T_248b5_row3_col8, #T_248b5_row4_col8, #T_248b5_row5_col8, #T_248b5_row6_col8, #T_248b5_row7_col8, #T_248b5_row8_col8, #T_248b5_row11_col8, #T_248b5_row12_col8 {\n",
       "  text-align: left;\n",
       "  background-color: lightgrey;\n",
       "}\n",
       "#T_248b5_row9_col8, #T_248b5_row10_col8, #T_248b5_row13_col8 {\n",
       "  text-align: left;\n",
       "  background-color: yellow;\n",
       "  background-color: lightgrey;\n",
       "}\n",
       "</style>\n",
       "<table id=\"T_248b5\">\n",
       "  <thead>\n",
       "    <tr>\n",
       "      <th class=\"blank level0\" >&nbsp;</th>\n",
       "      <th id=\"T_248b5_level0_col0\" class=\"col_heading level0 col0\" >Model</th>\n",
       "      <th id=\"T_248b5_level0_col1\" class=\"col_heading level0 col1\" >Accuracy</th>\n",
       "      <th id=\"T_248b5_level0_col2\" class=\"col_heading level0 col2\" >AUC</th>\n",
       "      <th id=\"T_248b5_level0_col3\" class=\"col_heading level0 col3\" >Recall</th>\n",
       "      <th id=\"T_248b5_level0_col4\" class=\"col_heading level0 col4\" >Prec.</th>\n",
       "      <th id=\"T_248b5_level0_col5\" class=\"col_heading level0 col5\" >F1</th>\n",
       "      <th id=\"T_248b5_level0_col6\" class=\"col_heading level0 col6\" >Kappa</th>\n",
       "      <th id=\"T_248b5_level0_col7\" class=\"col_heading level0 col7\" >MCC</th>\n",
       "      <th id=\"T_248b5_level0_col8\" class=\"col_heading level0 col8\" >TT (Sec)</th>\n",
       "    </tr>\n",
       "  </thead>\n",
       "  <tbody>\n",
       "    <tr>\n",
       "      <th id=\"T_248b5_level0_row0\" class=\"row_heading level0 row0\" >lightgbm</th>\n",
       "      <td id=\"T_248b5_row0_col0\" class=\"data row0 col0\" >Light Gradient Boosting Machine</td>\n",
       "      <td id=\"T_248b5_row0_col1\" class=\"data row0 col1\" >0.9971</td>\n",
       "      <td id=\"T_248b5_row0_col2\" class=\"data row0 col2\" >0.9999</td>\n",
       "      <td id=\"T_248b5_row0_col3\" class=\"data row0 col3\" >0.9971</td>\n",
       "      <td id=\"T_248b5_row0_col4\" class=\"data row0 col4\" >0.9971</td>\n",
       "      <td id=\"T_248b5_row0_col5\" class=\"data row0 col5\" >0.9971</td>\n",
       "      <td id=\"T_248b5_row0_col6\" class=\"data row0 col6\" >0.9965</td>\n",
       "      <td id=\"T_248b5_row0_col7\" class=\"data row0 col7\" >0.9965</td>\n",
       "      <td id=\"T_248b5_row0_col8\" class=\"data row0 col8\" >1.1760</td>\n",
       "    </tr>\n",
       "    <tr>\n",
       "      <th id=\"T_248b5_level0_row1\" class=\"row_heading level0 row1\" >et</th>\n",
       "      <td id=\"T_248b5_row1_col0\" class=\"data row1 col0\" >Extra Trees Classifier</td>\n",
       "      <td id=\"T_248b5_row1_col1\" class=\"data row1 col1\" >0.9968</td>\n",
       "      <td id=\"T_248b5_row1_col2\" class=\"data row1 col2\" >1.0000</td>\n",
       "      <td id=\"T_248b5_row1_col3\" class=\"data row1 col3\" >0.9968</td>\n",
       "      <td id=\"T_248b5_row1_col4\" class=\"data row1 col4\" >0.9969</td>\n",
       "      <td id=\"T_248b5_row1_col5\" class=\"data row1 col5\" >0.9968</td>\n",
       "      <td id=\"T_248b5_row1_col6\" class=\"data row1 col6\" >0.9962</td>\n",
       "      <td id=\"T_248b5_row1_col7\" class=\"data row1 col7\" >0.9962</td>\n",
       "      <td id=\"T_248b5_row1_col8\" class=\"data row1 col8\" >0.3230</td>\n",
       "    </tr>\n",
       "    <tr>\n",
       "      <th id=\"T_248b5_level0_row2\" class=\"row_heading level0 row2\" >rf</th>\n",
       "      <td id=\"T_248b5_row2_col0\" class=\"data row2 col0\" >Random Forest Classifier</td>\n",
       "      <td id=\"T_248b5_row2_col1\" class=\"data row2 col1\" >0.9960</td>\n",
       "      <td id=\"T_248b5_row2_col2\" class=\"data row2 col2\" >0.9999</td>\n",
       "      <td id=\"T_248b5_row2_col3\" class=\"data row2 col3\" >0.9960</td>\n",
       "      <td id=\"T_248b5_row2_col4\" class=\"data row2 col4\" >0.9960</td>\n",
       "      <td id=\"T_248b5_row2_col5\" class=\"data row2 col5\" >0.9960</td>\n",
       "      <td id=\"T_248b5_row2_col6\" class=\"data row2 col6\" >0.9952</td>\n",
       "      <td id=\"T_248b5_row2_col7\" class=\"data row2 col7\" >0.9952</td>\n",
       "      <td id=\"T_248b5_row2_col8\" class=\"data row2 col8\" >0.8430</td>\n",
       "    </tr>\n",
       "    <tr>\n",
       "      <th id=\"T_248b5_level0_row3\" class=\"row_heading level0 row3\" >dt</th>\n",
       "      <td id=\"T_248b5_row3_col0\" class=\"data row3 col0\" >Decision Tree Classifier</td>\n",
       "      <td id=\"T_248b5_row3_col1\" class=\"data row3 col1\" >0.9932</td>\n",
       "      <td id=\"T_248b5_row3_col2\" class=\"data row3 col2\" >0.9959</td>\n",
       "      <td id=\"T_248b5_row3_col3\" class=\"data row3 col3\" >0.9932</td>\n",
       "      <td id=\"T_248b5_row3_col4\" class=\"data row3 col4\" >0.9933</td>\n",
       "      <td id=\"T_248b5_row3_col5\" class=\"data row3 col5\" >0.9932</td>\n",
       "      <td id=\"T_248b5_row3_col6\" class=\"data row3 col6\" >0.9919</td>\n",
       "      <td id=\"T_248b5_row3_col7\" class=\"data row3 col7\" >0.9919</td>\n",
       "      <td id=\"T_248b5_row3_col8\" class=\"data row3 col8\" >0.0690</td>\n",
       "    </tr>\n",
       "    <tr>\n",
       "      <th id=\"T_248b5_level0_row4\" class=\"row_heading level0 row4\" >gbc</th>\n",
       "      <td id=\"T_248b5_row4_col0\" class=\"data row4 col0\" >Gradient Boosting Classifier</td>\n",
       "      <td id=\"T_248b5_row4_col1\" class=\"data row4 col1\" >0.9905</td>\n",
       "      <td id=\"T_248b5_row4_col2\" class=\"data row4 col2\" >0.0000</td>\n",
       "      <td id=\"T_248b5_row4_col3\" class=\"data row4 col3\" >0.9905</td>\n",
       "      <td id=\"T_248b5_row4_col4\" class=\"data row4 col4\" >0.9907</td>\n",
       "      <td id=\"T_248b5_row4_col5\" class=\"data row4 col5\" >0.9905</td>\n",
       "      <td id=\"T_248b5_row4_col6\" class=\"data row4 col6\" >0.9886</td>\n",
       "      <td id=\"T_248b5_row4_col7\" class=\"data row4 col7\" >0.9887</td>\n",
       "      <td id=\"T_248b5_row4_col8\" class=\"data row4 col8\" >6.9570</td>\n",
       "    </tr>\n",
       "    <tr>\n",
       "      <th id=\"T_248b5_level0_row5\" class=\"row_heading level0 row5\" >knn</th>\n",
       "      <td id=\"T_248b5_row5_col0\" class=\"data row5 col0\" >K Neighbors Classifier</td>\n",
       "      <td id=\"T_248b5_row5_col1\" class=\"data row5 col1\" >0.9856</td>\n",
       "      <td id=\"T_248b5_row5_col2\" class=\"data row5 col2\" >0.9967</td>\n",
       "      <td id=\"T_248b5_row5_col3\" class=\"data row5 col3\" >0.9856</td>\n",
       "      <td id=\"T_248b5_row5_col4\" class=\"data row5 col4\" >0.9859</td>\n",
       "      <td id=\"T_248b5_row5_col5\" class=\"data row5 col5\" >0.9854</td>\n",
       "      <td id=\"T_248b5_row5_col6\" class=\"data row5 col6\" >0.9827</td>\n",
       "      <td id=\"T_248b5_row5_col7\" class=\"data row5 col7\" >0.9829</td>\n",
       "      <td id=\"T_248b5_row5_col8\" class=\"data row5 col8\" >0.3780</td>\n",
       "    </tr>\n",
       "    <tr>\n",
       "      <th id=\"T_248b5_level0_row6\" class=\"row_heading level0 row6\" >lr</th>\n",
       "      <td id=\"T_248b5_row6_col0\" class=\"data row6 col0\" >Logistic Regression</td>\n",
       "      <td id=\"T_248b5_row6_col1\" class=\"data row6 col1\" >0.8804</td>\n",
       "      <td id=\"T_248b5_row6_col2\" class=\"data row6 col2\" >0.0000</td>\n",
       "      <td id=\"T_248b5_row6_col3\" class=\"data row6 col3\" >0.8804</td>\n",
       "      <td id=\"T_248b5_row6_col4\" class=\"data row6 col4\" >0.8767</td>\n",
       "      <td id=\"T_248b5_row6_col5\" class=\"data row6 col5\" >0.8772</td>\n",
       "      <td id=\"T_248b5_row6_col6\" class=\"data row6 col6\" >0.8564</td>\n",
       "      <td id=\"T_248b5_row6_col7\" class=\"data row6 col7\" >0.8570</td>\n",
       "      <td id=\"T_248b5_row6_col8\" class=\"data row6 col8\" >1.0010</td>\n",
       "    </tr>\n",
       "    <tr>\n",
       "      <th id=\"T_248b5_level0_row7\" class=\"row_heading level0 row7\" >svm</th>\n",
       "      <td id=\"T_248b5_row7_col0\" class=\"data row7 col0\" >SVM - Linear Kernel</td>\n",
       "      <td id=\"T_248b5_row7_col1\" class=\"data row7 col1\" >0.8546</td>\n",
       "      <td id=\"T_248b5_row7_col2\" class=\"data row7 col2\" >0.0000</td>\n",
       "      <td id=\"T_248b5_row7_col3\" class=\"data row7 col3\" >0.8546</td>\n",
       "      <td id=\"T_248b5_row7_col4\" class=\"data row7 col4\" >0.8512</td>\n",
       "      <td id=\"T_248b5_row7_col5\" class=\"data row7 col5\" >0.8473</td>\n",
       "      <td id=\"T_248b5_row7_col6\" class=\"data row7 col6\" >0.8255</td>\n",
       "      <td id=\"T_248b5_row7_col7\" class=\"data row7 col7\" >0.8275</td>\n",
       "      <td id=\"T_248b5_row7_col8\" class=\"data row7 col8\" >0.0560</td>\n",
       "    </tr>\n",
       "    <tr>\n",
       "      <th id=\"T_248b5_level0_row8\" class=\"row_heading level0 row8\" >lda</th>\n",
       "      <td id=\"T_248b5_row8_col0\" class=\"data row8 col0\" >Linear Discriminant Analysis</td>\n",
       "      <td id=\"T_248b5_row8_col1\" class=\"data row8 col1\" >0.8100</td>\n",
       "      <td id=\"T_248b5_row8_col2\" class=\"data row8 col2\" >0.0000</td>\n",
       "      <td id=\"T_248b5_row8_col3\" class=\"data row8 col3\" >0.8100</td>\n",
       "      <td id=\"T_248b5_row8_col4\" class=\"data row8 col4\" >0.8107</td>\n",
       "      <td id=\"T_248b5_row8_col5\" class=\"data row8 col5\" >0.8006</td>\n",
       "      <td id=\"T_248b5_row8_col6\" class=\"data row8 col6\" >0.7720</td>\n",
       "      <td id=\"T_248b5_row8_col7\" class=\"data row8 col7\" >0.7761</td>\n",
       "      <td id=\"T_248b5_row8_col8\" class=\"data row8 col8\" >0.0280</td>\n",
       "    </tr>\n",
       "    <tr>\n",
       "      <th id=\"T_248b5_level0_row9\" class=\"row_heading level0 row9\" >ridge</th>\n",
       "      <td id=\"T_248b5_row9_col0\" class=\"data row9 col0\" >Ridge Classifier</td>\n",
       "      <td id=\"T_248b5_row9_col1\" class=\"data row9 col1\" >0.7783</td>\n",
       "      <td id=\"T_248b5_row9_col2\" class=\"data row9 col2\" >0.0000</td>\n",
       "      <td id=\"T_248b5_row9_col3\" class=\"data row9 col3\" >0.7783</td>\n",
       "      <td id=\"T_248b5_row9_col4\" class=\"data row9 col4\" >0.7773</td>\n",
       "      <td id=\"T_248b5_row9_col5\" class=\"data row9 col5\" >0.7609</td>\n",
       "      <td id=\"T_248b5_row9_col6\" class=\"data row9 col6\" >0.7340</td>\n",
       "      <td id=\"T_248b5_row9_col7\" class=\"data row9 col7\" >0.7402</td>\n",
       "      <td id=\"T_248b5_row9_col8\" class=\"data row9 col8\" >0.0260</td>\n",
       "    </tr>\n",
       "    <tr>\n",
       "      <th id=\"T_248b5_level0_row10\" class=\"row_heading level0 row10\" >nb</th>\n",
       "      <td id=\"T_248b5_row10_col0\" class=\"data row10 col0\" >Naive Bayes</td>\n",
       "      <td id=\"T_248b5_row10_col1\" class=\"data row10 col1\" >0.7037</td>\n",
       "      <td id=\"T_248b5_row10_col2\" class=\"data row10 col2\" >0.9361</td>\n",
       "      <td id=\"T_248b5_row10_col3\" class=\"data row10 col3\" >0.7037</td>\n",
       "      <td id=\"T_248b5_row10_col4\" class=\"data row10 col4\" >0.7469</td>\n",
       "      <td id=\"T_248b5_row10_col5\" class=\"data row10 col5\" >0.7042</td>\n",
       "      <td id=\"T_248b5_row10_col6\" class=\"data row10 col6\" >0.6444</td>\n",
       "      <td id=\"T_248b5_row10_col7\" class=\"data row10 col7\" >0.6544</td>\n",
       "      <td id=\"T_248b5_row10_col8\" class=\"data row10 col8\" >0.0260</td>\n",
       "    </tr>\n",
       "    <tr>\n",
       "      <th id=\"T_248b5_level0_row11\" class=\"row_heading level0 row11\" >ada</th>\n",
       "      <td id=\"T_248b5_row11_col0\" class=\"data row11 col0\" >Ada Boost Classifier</td>\n",
       "      <td id=\"T_248b5_row11_col1\" class=\"data row11 col1\" >0.6246</td>\n",
       "      <td id=\"T_248b5_row11_col2\" class=\"data row11 col2\" >0.0000</td>\n",
       "      <td id=\"T_248b5_row11_col3\" class=\"data row11 col3\" >0.6246</td>\n",
       "      <td id=\"T_248b5_row11_col4\" class=\"data row11 col4\" >0.5856</td>\n",
       "      <td id=\"T_248b5_row11_col5\" class=\"data row11 col5\" >0.5682</td>\n",
       "      <td id=\"T_248b5_row11_col6\" class=\"data row11 col6\" >0.5495</td>\n",
       "      <td id=\"T_248b5_row11_col7\" class=\"data row11 col7\" >0.5772</td>\n",
       "      <td id=\"T_248b5_row11_col8\" class=\"data row11 col8\" >0.4190</td>\n",
       "    </tr>\n",
       "    <tr>\n",
       "      <th id=\"T_248b5_level0_row12\" class=\"row_heading level0 row12\" >qda</th>\n",
       "      <td id=\"T_248b5_row12_col0\" class=\"data row12 col0\" >Quadratic Discriminant Analysis</td>\n",
       "      <td id=\"T_248b5_row12_col1\" class=\"data row12 col1\" >0.4766</td>\n",
       "      <td id=\"T_248b5_row12_col2\" class=\"data row12 col2\" >0.0000</td>\n",
       "      <td id=\"T_248b5_row12_col3\" class=\"data row12 col3\" >0.4766</td>\n",
       "      <td id=\"T_248b5_row12_col4\" class=\"data row12 col4\" >0.4122</td>\n",
       "      <td id=\"T_248b5_row12_col5\" class=\"data row12 col5\" >0.3909</td>\n",
       "      <td id=\"T_248b5_row12_col6\" class=\"data row12 col6\" >0.3720</td>\n",
       "      <td id=\"T_248b5_row12_col7\" class=\"data row12 col7\" >0.3915</td>\n",
       "      <td id=\"T_248b5_row12_col8\" class=\"data row12 col8\" >0.0270</td>\n",
       "    </tr>\n",
       "    <tr>\n",
       "      <th id=\"T_248b5_level0_row13\" class=\"row_heading level0 row13\" >dummy</th>\n",
       "      <td id=\"T_248b5_row13_col0\" class=\"data row13 col0\" >Dummy Classifier</td>\n",
       "      <td id=\"T_248b5_row13_col1\" class=\"data row13 col1\" >0.1665</td>\n",
       "      <td id=\"T_248b5_row13_col2\" class=\"data row13 col2\" >0.5000</td>\n",
       "      <td id=\"T_248b5_row13_col3\" class=\"data row13 col3\" >0.1665</td>\n",
       "      <td id=\"T_248b5_row13_col4\" class=\"data row13 col4\" >0.0277</td>\n",
       "      <td id=\"T_248b5_row13_col5\" class=\"data row13 col5\" >0.0475</td>\n",
       "      <td id=\"T_248b5_row13_col6\" class=\"data row13 col6\" >0.0000</td>\n",
       "      <td id=\"T_248b5_row13_col7\" class=\"data row13 col7\" >0.0000</td>\n",
       "      <td id=\"T_248b5_row13_col8\" class=\"data row13 col8\" >0.0260</td>\n",
       "    </tr>\n",
       "  </tbody>\n",
       "</table>\n"
      ],
      "text/plain": [
       "<pandas.io.formats.style.Styler at 0x1f9a0a3d150>"
      ]
     },
     "metadata": {},
     "output_type": "display_data"
    },
    {
     "data": {
      "text/html": [],
      "text/plain": [
       "<IPython.core.display.HTML object>"
      ]
     },
     "metadata": {},
     "output_type": "display_data"
    }
   ],
   "source": [
    "best_model = compare_models(sort = 'F1')"
   ]
  },
  {
   "cell_type": "code",
   "execution_count": 64,
   "metadata": {},
   "outputs": [
    {
     "data": {
      "text/html": [],
      "text/plain": [
       "<IPython.core.display.HTML object>"
      ]
     },
     "metadata": {},
     "output_type": "display_data"
    },
    {
     "data": {
      "image/png": "[encoded data removed]",
      "text/plain": [
       "<Figure size 600x400 with 2 Axes>"
      ]
     },
     "metadata": {},
     "output_type": "display_data"
    }
   ],
   "source": [
    "from matplotlib import pyplot as plt\n",
    "plt.figure(figsize = (6,4))\n",
    "plot_model(best_model, plot = 'class_report')"
   ]
  },
  {
   "cell_type": "code",
   "execution_count": null,
   "metadata": {},
   "outputs": [
    {
     "ename": "NameError",
     "evalue": "name 'X_resampled' is not defined",
     "output_type": "error",
     "traceback": [
      "\u001b[1;31m---------------------------------------------------------------------------\u001b[0m",
      "\u001b[1;31mNameError\u001b[0m                                 Traceback (most recent call last)",
      "Cell \u001b[1;32mIn[20], line 1\u001b[0m\n\u001b[1;32m----> 1\u001b[0m \u001b[43mX_resampled\u001b[49m\u001b[38;5;241m.\u001b[39mshape\n",
      "\u001b[1;31mNameError\u001b[0m: name 'X_resampled' is not defined"
     ]
    }
   ],
   "source": [
    "X_resampled.shape"
   ]
  },
  {
   "cell_type": "code",
   "execution_count": null,
   "metadata": {},
   "outputs": [
    {
     "data": {
      "text/plain": [
       "(57912,)"
      ]
     },
     "execution_count": 248,
     "metadata": {},
     "output_type": "execute_result"
    }
   ],
   "source": [
    "y_resampled.shape"
   ]
  },
  {
   "cell_type": "code",
   "execution_count": null,
   "metadata": {},
   "outputs": [],
   "source": [
    "# Convert X and y to pandas DataFrame\n",
    "X_df = pd.DataFrame(X_resampled, columns=X_columns)\n",
    "y_df = pd.DataFrame(y_resampled, columns=['Target'])\n",
    "\n",
    "# Concatenate X and y along columns\n",
    "df = pd.concat([X_df, y_df], axis=1)\n",
    "\n",
    "# Write DataFrame to CSV file\n",
    "df.to_csv('processed_data.csv', index=False)"
   ]
  }
 ],
 "metadata": {
  "kernelspec": {
   "display_name": "Python 3",
   "language": "python",
   "name": "python3"
  },
  "language_info": {
   "codemirror_mode": {
    "name": "ipython",
    "version": 3
   },
   "file_extension": ".py",
   "mimetype": "text/x-python",
   "name": "python",
   "nbconvert_exporter": "python",
   "pygments_lexer": "ipython3",
   "version": "3.11.9"
  }
 },
 "nbformat": 4,
 "nbformat_minor": 2
}
