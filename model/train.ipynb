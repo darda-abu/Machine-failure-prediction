{
 "cells": [
  {
   "cell_type": "code",
   "execution_count": 1,
   "metadata": {},
   "outputs": [
    {
     "data": {
      "text/html": [
       "<div>\n",
       "<style scoped>\n",
       "    .dataframe tbody tr th:only-of-type {\n",
       "        vertical-align: middle;\n",
       "    }\n",
       "\n",
       "    .dataframe tbody tr th {\n",
       "        vertical-align: top;\n",
       "    }\n",
       "\n",
       "    .dataframe thead th {\n",
       "        text-align: right;\n",
       "    }\n",
       "</style>\n",
       "<table border=\"1\" class=\"dataframe\">\n",
       "  <thead>\n",
       "    <tr style=\"text-align: right;\">\n",
       "      <th></th>\n",
       "      <th>Air temperature [K]</th>\n",
       "      <th>Process temperature [K]</th>\n",
       "      <th>Rotational speed [rpm]</th>\n",
       "      <th>Torque [Nm]</th>\n",
       "      <th>Tool wear [min]</th>\n",
       "      <th>Type_H</th>\n",
       "      <th>Type_L</th>\n",
       "      <th>Type_M</th>\n",
       "      <th>Target</th>\n",
       "    </tr>\n",
       "  </thead>\n",
       "  <tbody>\n",
       "    <tr>\n",
       "      <th>0</th>\n",
       "      <td>0.333333</td>\n",
       "      <td>0.375</td>\n",
       "      <td>0.222934</td>\n",
       "      <td>0.534247</td>\n",
       "      <td>0.000000</td>\n",
       "      <td>0.0</td>\n",
       "      <td>0.0</td>\n",
       "      <td>1.0</td>\n",
       "      <td>1</td>\n",
       "    </tr>\n",
       "    <tr>\n",
       "      <th>1</th>\n",
       "      <td>0.333333</td>\n",
       "      <td>0.375</td>\n",
       "      <td>0.139697</td>\n",
       "      <td>0.589041</td>\n",
       "      <td>0.011858</td>\n",
       "      <td>0.0</td>\n",
       "      <td>1.0</td>\n",
       "      <td>0.0</td>\n",
       "      <td>1</td>\n",
       "    </tr>\n",
       "    <tr>\n",
       "      <th>2</th>\n",
       "      <td>0.333333</td>\n",
       "      <td>0.375</td>\n",
       "      <td>0.192084</td>\n",
       "      <td>0.630137</td>\n",
       "      <td>0.019763</td>\n",
       "      <td>0.0</td>\n",
       "      <td>1.0</td>\n",
       "      <td>0.0</td>\n",
       "      <td>1</td>\n",
       "    </tr>\n",
       "    <tr>\n",
       "      <th>3</th>\n",
       "      <td>0.333333</td>\n",
       "      <td>0.375</td>\n",
       "      <td>0.154249</td>\n",
       "      <td>0.493151</td>\n",
       "      <td>0.027668</td>\n",
       "      <td>0.0</td>\n",
       "      <td>1.0</td>\n",
       "      <td>0.0</td>\n",
       "      <td>1</td>\n",
       "    </tr>\n",
       "    <tr>\n",
       "      <th>4</th>\n",
       "      <td>0.333333</td>\n",
       "      <td>0.375</td>\n",
       "      <td>0.139697</td>\n",
       "      <td>0.506849</td>\n",
       "      <td>0.035573</td>\n",
       "      <td>0.0</td>\n",
       "      <td>1.0</td>\n",
       "      <td>0.0</td>\n",
       "      <td>1</td>\n",
       "    </tr>\n",
       "  </tbody>\n",
       "</table>\n",
       "</div>"
      ],
      "text/plain": [
       "   Air temperature [K]  Process temperature [K]  Rotational speed [rpm]  \\\n",
       "0             0.333333                    0.375                0.222934   \n",
       "1             0.333333                    0.375                0.139697   \n",
       "2             0.333333                    0.375                0.192084   \n",
       "3             0.333333                    0.375                0.154249   \n",
       "4             0.333333                    0.375                0.139697   \n",
       "\n",
       "   Torque [Nm]  Tool wear [min]  Type_H  Type_L  Type_M  Target  \n",
       "0     0.534247         0.000000     0.0     0.0     1.0       1  \n",
       "1     0.589041         0.011858     0.0     1.0     0.0       1  \n",
       "2     0.630137         0.019763     0.0     1.0     0.0       1  \n",
       "3     0.493151         0.027668     0.0     1.0     0.0       1  \n",
       "4     0.506849         0.035573     0.0     1.0     0.0       1  "
      ]
     },
     "execution_count": 1,
     "metadata": {},
     "output_type": "execute_result"
    }
   ],
   "source": [
    "import pandas as pd\n",
    "import numpy as np\n",
    "df = pd.read_csv(\"..\\data\\processed_data.csv\")\n",
    "df.head()"
   ]
  },
  {
   "cell_type": "code",
   "execution_count": 2,
   "metadata": {},
   "outputs": [],
   "source": [
    "X = df.drop([\"Target\"],axis=1)\n",
    "y = df['Target']"
   ]
  },
  {
   "cell_type": "code",
   "execution_count": 3,
   "metadata": {},
   "outputs": [],
   "source": [
    "X_columns = X.columns.to_numpy()"
   ]
  },
  {
   "cell_type": "code",
   "execution_count": 4,
   "metadata": {},
   "outputs": [],
   "source": [
    "from sklearn.model_selection import train_test_split\n",
    "X_train, X_test, y_train, y_test = train_test_split(X, y, test_size=0.2, random_state=42)"
   ]
  },
  {
   "cell_type": "code",
   "execution_count": 5,
   "metadata": {},
   "outputs": [],
   "source": [
    "from imblearn.over_sampling import SMOTE \n",
    "sm = SMOTE(sampling_strategy=\"auto\") \n",
    "X_train_resampled, y_train_resampled = sm.fit_resample(X_train, y_train) "
   ]
  },
  {
   "cell_type": "code",
   "execution_count": 6,
   "metadata": {},
   "outputs": [
    {
     "data": {
      "text/plain": [
       "(array([0, 1, 2, 3, 4, 5], dtype=int64),\n",
       " array([7717, 7717, 7717, 7717, 7717, 7717], dtype=int64))"
      ]
     },
     "execution_count": 6,
     "metadata": {},
     "output_type": "execute_result"
    }
   ],
   "source": [
    "np.unique(y_train_resampled,return_counts=True)"
   ]
  },
  {
   "cell_type": "code",
   "execution_count": 7,
   "metadata": {},
   "outputs": [],
   "source": [
    "X_train_resampled = pd.DataFrame(X_train_resampled, columns=X_columns)\n",
    "y_train_resampled = pd.DataFrame(y_train_resampled, columns=['Target'])\n",
    "X_test = pd.DataFrame(X_test, columns=X_columns)\n",
    "y_test = pd.DataFrame(y_test, columns=['Target'])"
   ]
  },
  {
   "cell_type": "code",
   "execution_count": 8,
   "metadata": {},
   "outputs": [
    {
     "data": {
      "text/html": [
       "<style type=\"text/css\">\n",
       "#T_fdce3_row8_col1 {\n",
       "  background-color: lightgreen;\n",
       "}\n",
       "</style>\n",
       "<table id=\"T_fdce3\">\n",
       "  <thead>\n",
       "    <tr>\n",
       "      <th class=\"blank level0\" >&nbsp;</th>\n",
       "      <th id=\"T_fdce3_level0_col0\" class=\"col_heading level0 col0\" >Description</th>\n",
       "      <th id=\"T_fdce3_level0_col1\" class=\"col_heading level0 col1\" >Value</th>\n",
       "    </tr>\n",
       "  </thead>\n",
       "  <tbody>\n",
       "    <tr>\n",
       "      <th id=\"T_fdce3_level0_row0\" class=\"row_heading level0 row0\" >0</th>\n",
       "      <td id=\"T_fdce3_row0_col0\" class=\"data row0 col0\" >Session id</td>\n",
       "      <td id=\"T_fdce3_row0_col1\" class=\"data row0 col1\" >42</td>\n",
       "    </tr>\n",
       "    <tr>\n",
       "      <th id=\"T_fdce3_level0_row1\" class=\"row_heading level0 row1\" >1</th>\n",
       "      <td id=\"T_fdce3_row1_col0\" class=\"data row1 col0\" >Target</td>\n",
       "      <td id=\"T_fdce3_row1_col1\" class=\"data row1 col1\" >Target</td>\n",
       "    </tr>\n",
       "    <tr>\n",
       "      <th id=\"T_fdce3_level0_row2\" class=\"row_heading level0 row2\" >2</th>\n",
       "      <td id=\"T_fdce3_row2_col0\" class=\"data row2 col0\" >Target type</td>\n",
       "      <td id=\"T_fdce3_row2_col1\" class=\"data row2 col1\" >Multiclass</td>\n",
       "    </tr>\n",
       "    <tr>\n",
       "      <th id=\"T_fdce3_level0_row3\" class=\"row_heading level0 row3\" >3</th>\n",
       "      <td id=\"T_fdce3_row3_col0\" class=\"data row3 col0\" >Original data shape</td>\n",
       "      <td id=\"T_fdce3_row3_col1\" class=\"data row3 col1\" >(48302, 9)</td>\n",
       "    </tr>\n",
       "    <tr>\n",
       "      <th id=\"T_fdce3_level0_row4\" class=\"row_heading level0 row4\" >4</th>\n",
       "      <td id=\"T_fdce3_row4_col0\" class=\"data row4 col0\" >Transformed data shape</td>\n",
       "      <td id=\"T_fdce3_row4_col1\" class=\"data row4 col1\" >(48302, 9)</td>\n",
       "    </tr>\n",
       "    <tr>\n",
       "      <th id=\"T_fdce3_level0_row5\" class=\"row_heading level0 row5\" >5</th>\n",
       "      <td id=\"T_fdce3_row5_col0\" class=\"data row5 col0\" >Transformed train set shape</td>\n",
       "      <td id=\"T_fdce3_row5_col1\" class=\"data row5 col1\" >(46302, 9)</td>\n",
       "    </tr>\n",
       "    <tr>\n",
       "      <th id=\"T_fdce3_level0_row6\" class=\"row_heading level0 row6\" >6</th>\n",
       "      <td id=\"T_fdce3_row6_col0\" class=\"data row6 col0\" >Transformed test set shape</td>\n",
       "      <td id=\"T_fdce3_row6_col1\" class=\"data row6 col1\" >(2000, 9)</td>\n",
       "    </tr>\n",
       "    <tr>\n",
       "      <th id=\"T_fdce3_level0_row7\" class=\"row_heading level0 row7\" >7</th>\n",
       "      <td id=\"T_fdce3_row7_col0\" class=\"data row7 col0\" >Numeric features</td>\n",
       "      <td id=\"T_fdce3_row7_col1\" class=\"data row7 col1\" >8</td>\n",
       "    </tr>\n",
       "    <tr>\n",
       "      <th id=\"T_fdce3_level0_row8\" class=\"row_heading level0 row8\" >8</th>\n",
       "      <td id=\"T_fdce3_row8_col0\" class=\"data row8 col0\" >Preprocess</td>\n",
       "      <td id=\"T_fdce3_row8_col1\" class=\"data row8 col1\" >True</td>\n",
       "    </tr>\n",
       "    <tr>\n",
       "      <th id=\"T_fdce3_level0_row9\" class=\"row_heading level0 row9\" >9</th>\n",
       "      <td id=\"T_fdce3_row9_col0\" class=\"data row9 col0\" >Imputation type</td>\n",
       "      <td id=\"T_fdce3_row9_col1\" class=\"data row9 col1\" >simple</td>\n",
       "    </tr>\n",
       "    <tr>\n",
       "      <th id=\"T_fdce3_level0_row10\" class=\"row_heading level0 row10\" >10</th>\n",
       "      <td id=\"T_fdce3_row10_col0\" class=\"data row10 col0\" >Numeric imputation</td>\n",
       "      <td id=\"T_fdce3_row10_col1\" class=\"data row10 col1\" >mean</td>\n",
       "    </tr>\n",
       "    <tr>\n",
       "      <th id=\"T_fdce3_level0_row11\" class=\"row_heading level0 row11\" >11</th>\n",
       "      <td id=\"T_fdce3_row11_col0\" class=\"data row11 col0\" >Categorical imputation</td>\n",
       "      <td id=\"T_fdce3_row11_col1\" class=\"data row11 col1\" >mode</td>\n",
       "    </tr>\n",
       "    <tr>\n",
       "      <th id=\"T_fdce3_level0_row12\" class=\"row_heading level0 row12\" >12</th>\n",
       "      <td id=\"T_fdce3_row12_col0\" class=\"data row12 col0\" >Fold Generator</td>\n",
       "      <td id=\"T_fdce3_row12_col1\" class=\"data row12 col1\" >StratifiedKFold</td>\n",
       "    </tr>\n",
       "    <tr>\n",
       "      <th id=\"T_fdce3_level0_row13\" class=\"row_heading level0 row13\" >13</th>\n",
       "      <td id=\"T_fdce3_row13_col0\" class=\"data row13 col0\" >Fold Number</td>\n",
       "      <td id=\"T_fdce3_row13_col1\" class=\"data row13 col1\" >10</td>\n",
       "    </tr>\n",
       "    <tr>\n",
       "      <th id=\"T_fdce3_level0_row14\" class=\"row_heading level0 row14\" >14</th>\n",
       "      <td id=\"T_fdce3_row14_col0\" class=\"data row14 col0\" >CPU Jobs</td>\n",
       "      <td id=\"T_fdce3_row14_col1\" class=\"data row14 col1\" >-1</td>\n",
       "    </tr>\n",
       "    <tr>\n",
       "      <th id=\"T_fdce3_level0_row15\" class=\"row_heading level0 row15\" >15</th>\n",
       "      <td id=\"T_fdce3_row15_col0\" class=\"data row15 col0\" >Use GPU</td>\n",
       "      <td id=\"T_fdce3_row15_col1\" class=\"data row15 col1\" >False</td>\n",
       "    </tr>\n",
       "    <tr>\n",
       "      <th id=\"T_fdce3_level0_row16\" class=\"row_heading level0 row16\" >16</th>\n",
       "      <td id=\"T_fdce3_row16_col0\" class=\"data row16 col0\" >Log Experiment</td>\n",
       "      <td id=\"T_fdce3_row16_col1\" class=\"data row16 col1\" >False</td>\n",
       "    </tr>\n",
       "    <tr>\n",
       "      <th id=\"T_fdce3_level0_row17\" class=\"row_heading level0 row17\" >17</th>\n",
       "      <td id=\"T_fdce3_row17_col0\" class=\"data row17 col0\" >Experiment Name</td>\n",
       "      <td id=\"T_fdce3_row17_col1\" class=\"data row17 col1\" >clf-default-name</td>\n",
       "    </tr>\n",
       "    <tr>\n",
       "      <th id=\"T_fdce3_level0_row18\" class=\"row_heading level0 row18\" >18</th>\n",
       "      <td id=\"T_fdce3_row18_col0\" class=\"data row18 col0\" >USI</td>\n",
       "      <td id=\"T_fdce3_row18_col1\" class=\"data row18 col1\" >d235</td>\n",
       "    </tr>\n",
       "  </tbody>\n",
       "</table>\n"
      ],
      "text/plain": [
       "<pandas.io.formats.style.Styler at 0x221dfcd6c90>"
      ]
     },
     "metadata": {},
     "output_type": "display_data"
    }
   ],
   "source": [
    "import pycaret \n",
    "from pycaret.classification import *\n",
    "s = setup(data = pd.concat([X_train_resampled, y_train_resampled], axis=1),\n",
    "          target = 'Target',\n",
    "          session_id = 42,\n",
    "          data_split_stratify = True,\n",
    "          index = False,\n",
    "          train_size = len(X_train),\n",
    "          test_data = pd.concat([X_test, y_test], axis=1))\n"
   ]
  },
  {
   "cell_type": "code",
   "execution_count": 9,
   "metadata": {},
   "outputs": [
    {
     "data": {
      "text/html": [],
      "text/plain": [
       "<IPython.core.display.HTML object>"
      ]
     },
     "metadata": {},
     "output_type": "display_data"
    },
    {
     "data": {
      "text/html": [
       "<style type=\"text/css\">\n",
       "#T_3f246 th {\n",
       "  text-align: left;\n",
       "}\n",
       "#T_3f246_row0_col0, #T_3f246_row1_col0, #T_3f246_row1_col1, #T_3f246_row1_col3, #T_3f246_row1_col4, #T_3f246_row1_col5, #T_3f246_row1_col6, #T_3f246_row1_col7, #T_3f246_row2_col0, #T_3f246_row2_col1, #T_3f246_row2_col3, #T_3f246_row2_col4, #T_3f246_row2_col5, #T_3f246_row2_col6, #T_3f246_row2_col7, #T_3f246_row3_col0, #T_3f246_row3_col1, #T_3f246_row3_col2, #T_3f246_row3_col3, #T_3f246_row3_col4, #T_3f246_row3_col5, #T_3f246_row3_col6, #T_3f246_row3_col7, #T_3f246_row4_col0, #T_3f246_row4_col1, #T_3f246_row4_col2, #T_3f246_row4_col3, #T_3f246_row4_col4, #T_3f246_row4_col5, #T_3f246_row4_col6, #T_3f246_row4_col7, #T_3f246_row5_col0, #T_3f246_row5_col1, #T_3f246_row5_col2, #T_3f246_row5_col3, #T_3f246_row5_col4, #T_3f246_row5_col5, #T_3f246_row5_col6, #T_3f246_row5_col7, #T_3f246_row6_col0, #T_3f246_row6_col1, #T_3f246_row6_col2, #T_3f246_row6_col3, #T_3f246_row6_col4, #T_3f246_row6_col5, #T_3f246_row6_col6, #T_3f246_row6_col7, #T_3f246_row7_col0, #T_3f246_row7_col1, #T_3f246_row7_col2, #T_3f246_row7_col3, #T_3f246_row7_col4, #T_3f246_row7_col5, #T_3f246_row7_col6, #T_3f246_row7_col7, #T_3f246_row8_col0, #T_3f246_row8_col1, #T_3f246_row8_col2, #T_3f246_row8_col3, #T_3f246_row8_col4, #T_3f246_row8_col5, #T_3f246_row8_col6, #T_3f246_row8_col7, #T_3f246_row9_col0, #T_3f246_row9_col1, #T_3f246_row9_col2, #T_3f246_row9_col3, #T_3f246_row9_col4, #T_3f246_row9_col5, #T_3f246_row9_col6, #T_3f246_row9_col7, #T_3f246_row10_col0, #T_3f246_row10_col1, #T_3f246_row10_col2, #T_3f246_row10_col3, #T_3f246_row10_col4, #T_3f246_row10_col5, #T_3f246_row10_col6, #T_3f246_row10_col7, #T_3f246_row11_col0, #T_3f246_row11_col1, #T_3f246_row11_col2, #T_3f246_row11_col3, #T_3f246_row11_col4, #T_3f246_row11_col5, #T_3f246_row11_col6, #T_3f246_row11_col7, #T_3f246_row12_col0, #T_3f246_row12_col1, #T_3f246_row12_col2, #T_3f246_row12_col3, #T_3f246_row12_col4, #T_3f246_row12_col5, #T_3f246_row12_col6, #T_3f246_row12_col7, #T_3f246_row13_col0, #T_3f246_row13_col1, #T_3f246_row13_col2, #T_3f246_row13_col3, #T_3f246_row13_col4, #T_3f246_row13_col5, #T_3f246_row13_col6, #T_3f246_row13_col7 {\n",
       "  text-align: left;\n",
       "}\n",
       "#T_3f246_row0_col1, #T_3f246_row0_col2, #T_3f246_row0_col3, #T_3f246_row0_col4, #T_3f246_row0_col5, #T_3f246_row0_col6, #T_3f246_row0_col7, #T_3f246_row1_col2, #T_3f246_row2_col2 {\n",
       "  text-align: left;\n",
       "  background-color: yellow;\n",
       "}\n",
       "#T_3f246_row0_col8, #T_3f246_row1_col8, #T_3f246_row2_col8, #T_3f246_row3_col8, #T_3f246_row4_col8, #T_3f246_row5_col8, #T_3f246_row6_col8, #T_3f246_row7_col8, #T_3f246_row8_col8, #T_3f246_row9_col8, #T_3f246_row10_col8, #T_3f246_row11_col8, #T_3f246_row12_col8 {\n",
       "  text-align: left;\n",
       "  background-color: lightgrey;\n",
       "}\n",
       "#T_3f246_row13_col8 {\n",
       "  text-align: left;\n",
       "  background-color: yellow;\n",
       "  background-color: lightgrey;\n",
       "}\n",
       "</style>\n",
       "<table id=\"T_3f246\">\n",
       "  <thead>\n",
       "    <tr>\n",
       "      <th class=\"blank level0\" >&nbsp;</th>\n",
       "      <th id=\"T_3f246_level0_col0\" class=\"col_heading level0 col0\" >Model</th>\n",
       "      <th id=\"T_3f246_level0_col1\" class=\"col_heading level0 col1\" >Accuracy</th>\n",
       "      <th id=\"T_3f246_level0_col2\" class=\"col_heading level0 col2\" >AUC</th>\n",
       "      <th id=\"T_3f246_level0_col3\" class=\"col_heading level0 col3\" >Recall</th>\n",
       "      <th id=\"T_3f246_level0_col4\" class=\"col_heading level0 col4\" >Prec.</th>\n",
       "      <th id=\"T_3f246_level0_col5\" class=\"col_heading level0 col5\" >F1</th>\n",
       "      <th id=\"T_3f246_level0_col6\" class=\"col_heading level0 col6\" >Kappa</th>\n",
       "      <th id=\"T_3f246_level0_col7\" class=\"col_heading level0 col7\" >MCC</th>\n",
       "      <th id=\"T_3f246_level0_col8\" class=\"col_heading level0 col8\" >TT (Sec)</th>\n",
       "    </tr>\n",
       "  </thead>\n",
       "  <tbody>\n",
       "    <tr>\n",
       "      <th id=\"T_3f246_level0_row0\" class=\"row_heading level0 row0\" >lightgbm</th>\n",
       "      <td id=\"T_3f246_row0_col0\" class=\"data row0 col0\" >Light Gradient Boosting Machine</td>\n",
       "      <td id=\"T_3f246_row0_col1\" class=\"data row0 col1\" >0.9971</td>\n",
       "      <td id=\"T_3f246_row0_col2\" class=\"data row0 col2\" >0.9999</td>\n",
       "      <td id=\"T_3f246_row0_col3\" class=\"data row0 col3\" >0.9971</td>\n",
       "      <td id=\"T_3f246_row0_col4\" class=\"data row0 col4\" >0.9972</td>\n",
       "      <td id=\"T_3f246_row0_col5\" class=\"data row0 col5\" >0.9972</td>\n",
       "      <td id=\"T_3f246_row0_col6\" class=\"data row0 col6\" >0.9966</td>\n",
       "      <td id=\"T_3f246_row0_col7\" class=\"data row0 col7\" >0.9966</td>\n",
       "      <td id=\"T_3f246_row0_col8\" class=\"data row0 col8\" >0.9110</td>\n",
       "    </tr>\n",
       "    <tr>\n",
       "      <th id=\"T_3f246_level0_row1\" class=\"row_heading level0 row1\" >et</th>\n",
       "      <td id=\"T_3f246_row1_col0\" class=\"data row1 col0\" >Extra Trees Classifier</td>\n",
       "      <td id=\"T_3f246_row1_col1\" class=\"data row1 col1\" >0.9969</td>\n",
       "      <td id=\"T_3f246_row1_col2\" class=\"data row1 col2\" >0.9999</td>\n",
       "      <td id=\"T_3f246_row1_col3\" class=\"data row1 col3\" >0.9969</td>\n",
       "      <td id=\"T_3f246_row1_col4\" class=\"data row1 col4\" >0.9969</td>\n",
       "      <td id=\"T_3f246_row1_col5\" class=\"data row1 col5\" >0.9969</td>\n",
       "      <td id=\"T_3f246_row1_col6\" class=\"data row1 col6\" >0.9963</td>\n",
       "      <td id=\"T_3f246_row1_col7\" class=\"data row1 col7\" >0.9963</td>\n",
       "      <td id=\"T_3f246_row1_col8\" class=\"data row1 col8\" >0.2820</td>\n",
       "    </tr>\n",
       "    <tr>\n",
       "      <th id=\"T_3f246_level0_row2\" class=\"row_heading level0 row2\" >rf</th>\n",
       "      <td id=\"T_3f246_row2_col0\" class=\"data row2 col0\" >Random Forest Classifier</td>\n",
       "      <td id=\"T_3f246_row2_col1\" class=\"data row2 col1\" >0.9963</td>\n",
       "      <td id=\"T_3f246_row2_col2\" class=\"data row2 col2\" >0.9999</td>\n",
       "      <td id=\"T_3f246_row2_col3\" class=\"data row2 col3\" >0.9963</td>\n",
       "      <td id=\"T_3f246_row2_col4\" class=\"data row2 col4\" >0.9963</td>\n",
       "      <td id=\"T_3f246_row2_col5\" class=\"data row2 col5\" >0.9963</td>\n",
       "      <td id=\"T_3f246_row2_col6\" class=\"data row2 col6\" >0.9955</td>\n",
       "      <td id=\"T_3f246_row2_col7\" class=\"data row2 col7\" >0.9956</td>\n",
       "      <td id=\"T_3f246_row2_col8\" class=\"data row2 col8\" >0.7740</td>\n",
       "    </tr>\n",
       "    <tr>\n",
       "      <th id=\"T_3f246_level0_row3\" class=\"row_heading level0 row3\" >dt</th>\n",
       "      <td id=\"T_3f246_row3_col0\" class=\"data row3 col0\" >Decision Tree Classifier</td>\n",
       "      <td id=\"T_3f246_row3_col1\" class=\"data row3 col1\" >0.9934</td>\n",
       "      <td id=\"T_3f246_row3_col2\" class=\"data row3 col2\" >0.9960</td>\n",
       "      <td id=\"T_3f246_row3_col3\" class=\"data row3 col3\" >0.9934</td>\n",
       "      <td id=\"T_3f246_row3_col4\" class=\"data row3 col4\" >0.9935</td>\n",
       "      <td id=\"T_3f246_row3_col5\" class=\"data row3 col5\" >0.9934</td>\n",
       "      <td id=\"T_3f246_row3_col6\" class=\"data row3 col6\" >0.9921</td>\n",
       "      <td id=\"T_3f246_row3_col7\" class=\"data row3 col7\" >0.9921</td>\n",
       "      <td id=\"T_3f246_row3_col8\" class=\"data row3 col8\" >0.0590</td>\n",
       "    </tr>\n",
       "    <tr>\n",
       "      <th id=\"T_3f246_level0_row4\" class=\"row_heading level0 row4\" >gbc</th>\n",
       "      <td id=\"T_3f246_row4_col0\" class=\"data row4 col0\" >Gradient Boosting Classifier</td>\n",
       "      <td id=\"T_3f246_row4_col1\" class=\"data row4 col1\" >0.9902</td>\n",
       "      <td id=\"T_3f246_row4_col2\" class=\"data row4 col2\" >0.0000</td>\n",
       "      <td id=\"T_3f246_row4_col3\" class=\"data row4 col3\" >0.9902</td>\n",
       "      <td id=\"T_3f246_row4_col4\" class=\"data row4 col4\" >0.9903</td>\n",
       "      <td id=\"T_3f246_row4_col5\" class=\"data row4 col5\" >0.9901</td>\n",
       "      <td id=\"T_3f246_row4_col6\" class=\"data row4 col6\" >0.9882</td>\n",
       "      <td id=\"T_3f246_row4_col7\" class=\"data row4 col7\" >0.9883</td>\n",
       "      <td id=\"T_3f246_row4_col8\" class=\"data row4 col8\" >6.2070</td>\n",
       "    </tr>\n",
       "    <tr>\n",
       "      <th id=\"T_3f246_level0_row5\" class=\"row_heading level0 row5\" >knn</th>\n",
       "      <td id=\"T_3f246_row5_col0\" class=\"data row5 col0\" >K Neighbors Classifier</td>\n",
       "      <td id=\"T_3f246_row5_col1\" class=\"data row5 col1\" >0.9855</td>\n",
       "      <td id=\"T_3f246_row5_col2\" class=\"data row5 col2\" >0.9967</td>\n",
       "      <td id=\"T_3f246_row5_col3\" class=\"data row5 col3\" >0.9855</td>\n",
       "      <td id=\"T_3f246_row5_col4\" class=\"data row5 col4\" >0.9858</td>\n",
       "      <td id=\"T_3f246_row5_col5\" class=\"data row5 col5\" >0.9852</td>\n",
       "      <td id=\"T_3f246_row5_col6\" class=\"data row5 col6\" >0.9826</td>\n",
       "      <td id=\"T_3f246_row5_col7\" class=\"data row5 col7\" >0.9827</td>\n",
       "      <td id=\"T_3f246_row5_col8\" class=\"data row5 col8\" >0.3210</td>\n",
       "    </tr>\n",
       "    <tr>\n",
       "      <th id=\"T_3f246_level0_row6\" class=\"row_heading level0 row6\" >lr</th>\n",
       "      <td id=\"T_3f246_row6_col0\" class=\"data row6 col0\" >Logistic Regression</td>\n",
       "      <td id=\"T_3f246_row6_col1\" class=\"data row6 col1\" >0.8808</td>\n",
       "      <td id=\"T_3f246_row6_col2\" class=\"data row6 col2\" >0.0000</td>\n",
       "      <td id=\"T_3f246_row6_col3\" class=\"data row6 col3\" >0.8808</td>\n",
       "      <td id=\"T_3f246_row6_col4\" class=\"data row6 col4\" >0.8772</td>\n",
       "      <td id=\"T_3f246_row6_col5\" class=\"data row6 col5\" >0.8776</td>\n",
       "      <td id=\"T_3f246_row6_col6\" class=\"data row6 col6\" >0.8569</td>\n",
       "      <td id=\"T_3f246_row6_col7\" class=\"data row6 col7\" >0.8575</td>\n",
       "      <td id=\"T_3f246_row6_col8\" class=\"data row6 col8\" >0.9360</td>\n",
       "    </tr>\n",
       "    <tr>\n",
       "      <th id=\"T_3f246_level0_row7\" class=\"row_heading level0 row7\" >svm</th>\n",
       "      <td id=\"T_3f246_row7_col0\" class=\"data row7 col0\" >SVM - Linear Kernel</td>\n",
       "      <td id=\"T_3f246_row7_col1\" class=\"data row7 col1\" >0.8485</td>\n",
       "      <td id=\"T_3f246_row7_col2\" class=\"data row7 col2\" >0.0000</td>\n",
       "      <td id=\"T_3f246_row7_col3\" class=\"data row7 col3\" >0.8485</td>\n",
       "      <td id=\"T_3f246_row7_col4\" class=\"data row7 col4\" >0.8442</td>\n",
       "      <td id=\"T_3f246_row7_col5\" class=\"data row7 col5\" >0.8414</td>\n",
       "      <td id=\"T_3f246_row7_col6\" class=\"data row7 col6\" >0.8182</td>\n",
       "      <td id=\"T_3f246_row7_col7\" class=\"data row7 col7\" >0.8201</td>\n",
       "      <td id=\"T_3f246_row7_col8\" class=\"data row7 col8\" >0.0500</td>\n",
       "    </tr>\n",
       "    <tr>\n",
       "      <th id=\"T_3f246_level0_row8\" class=\"row_heading level0 row8\" >lda</th>\n",
       "      <td id=\"T_3f246_row8_col0\" class=\"data row8 col0\" >Linear Discriminant Analysis</td>\n",
       "      <td id=\"T_3f246_row8_col1\" class=\"data row8 col1\" >0.8082</td>\n",
       "      <td id=\"T_3f246_row8_col2\" class=\"data row8 col2\" >0.0000</td>\n",
       "      <td id=\"T_3f246_row8_col3\" class=\"data row8 col3\" >0.8082</td>\n",
       "      <td id=\"T_3f246_row8_col4\" class=\"data row8 col4\" >0.8090</td>\n",
       "      <td id=\"T_3f246_row8_col5\" class=\"data row8 col5\" >0.7991</td>\n",
       "      <td id=\"T_3f246_row8_col6\" class=\"data row8 col6\" >0.7699</td>\n",
       "      <td id=\"T_3f246_row8_col7\" class=\"data row8 col7\" >0.7738</td>\n",
       "      <td id=\"T_3f246_row8_col8\" class=\"data row8 col8\" >0.0240</td>\n",
       "    </tr>\n",
       "    <tr>\n",
       "      <th id=\"T_3f246_level0_row9\" class=\"row_heading level0 row9\" >ridge</th>\n",
       "      <td id=\"T_3f246_row9_col0\" class=\"data row9 col0\" >Ridge Classifier</td>\n",
       "      <td id=\"T_3f246_row9_col1\" class=\"data row9 col1\" >0.7799</td>\n",
       "      <td id=\"T_3f246_row9_col2\" class=\"data row9 col2\" >0.0000</td>\n",
       "      <td id=\"T_3f246_row9_col3\" class=\"data row9 col3\" >0.7799</td>\n",
       "      <td id=\"T_3f246_row9_col4\" class=\"data row9 col4\" >0.7779</td>\n",
       "      <td id=\"T_3f246_row9_col5\" class=\"data row9 col5\" >0.7630</td>\n",
       "      <td id=\"T_3f246_row9_col6\" class=\"data row9 col6\" >0.7359</td>\n",
       "      <td id=\"T_3f246_row9_col7\" class=\"data row9 col7\" >0.7418</td>\n",
       "      <td id=\"T_3f246_row9_col8\" class=\"data row9 col8\" >0.0260</td>\n",
       "    </tr>\n",
       "    <tr>\n",
       "      <th id=\"T_3f246_level0_row10\" class=\"row_heading level0 row10\" >nb</th>\n",
       "      <td id=\"T_3f246_row10_col0\" class=\"data row10 col0\" >Naive Bayes</td>\n",
       "      <td id=\"T_3f246_row10_col1\" class=\"data row10 col1\" >0.7016</td>\n",
       "      <td id=\"T_3f246_row10_col2\" class=\"data row10 col2\" >0.9364</td>\n",
       "      <td id=\"T_3f246_row10_col3\" class=\"data row10 col3\" >0.7016</td>\n",
       "      <td id=\"T_3f246_row10_col4\" class=\"data row10 col4\" >0.7469</td>\n",
       "      <td id=\"T_3f246_row10_col5\" class=\"data row10 col5\" >0.7021</td>\n",
       "      <td id=\"T_3f246_row10_col6\" class=\"data row10 col6\" >0.6420</td>\n",
       "      <td id=\"T_3f246_row10_col7\" class=\"data row10 col7\" >0.6523</td>\n",
       "      <td id=\"T_3f246_row10_col8\" class=\"data row10 col8\" >0.0250</td>\n",
       "    </tr>\n",
       "    <tr>\n",
       "      <th id=\"T_3f246_level0_row11\" class=\"row_heading level0 row11\" >qda</th>\n",
       "      <td id=\"T_3f246_row11_col0\" class=\"data row11 col0\" >Quadratic Discriminant Analysis</td>\n",
       "      <td id=\"T_3f246_row11_col1\" class=\"data row11 col1\" >0.6775</td>\n",
       "      <td id=\"T_3f246_row11_col2\" class=\"data row11 col2\" >0.0000</td>\n",
       "      <td id=\"T_3f246_row11_col3\" class=\"data row11 col3\" >0.6775</td>\n",
       "      <td id=\"T_3f246_row11_col4\" class=\"data row11 col4\" >0.6711</td>\n",
       "      <td id=\"T_3f246_row11_col5\" class=\"data row11 col5\" >0.6085</td>\n",
       "      <td id=\"T_3f246_row11_col6\" class=\"data row11 col6\" >0.6130</td>\n",
       "      <td id=\"T_3f246_row11_col7\" class=\"data row11 col7\" >0.6331</td>\n",
       "      <td id=\"T_3f246_row11_col8\" class=\"data row11 col8\" >0.0260</td>\n",
       "    </tr>\n",
       "    <tr>\n",
       "      <th id=\"T_3f246_level0_row12\" class=\"row_heading level0 row12\" >ada</th>\n",
       "      <td id=\"T_3f246_row12_col0\" class=\"data row12 col0\" >Ada Boost Classifier</td>\n",
       "      <td id=\"T_3f246_row12_col1\" class=\"data row12 col1\" >0.5757</td>\n",
       "      <td id=\"T_3f246_row12_col2\" class=\"data row12 col2\" >0.0000</td>\n",
       "      <td id=\"T_3f246_row12_col3\" class=\"data row12 col3\" >0.5757</td>\n",
       "      <td id=\"T_3f246_row12_col4\" class=\"data row12 col4\" >0.4896</td>\n",
       "      <td id=\"T_3f246_row12_col5\" class=\"data row12 col5\" >0.4930</td>\n",
       "      <td id=\"T_3f246_row12_col6\" class=\"data row12 col6\" >0.4909</td>\n",
       "      <td id=\"T_3f246_row12_col7\" class=\"data row12 col7\" >0.5228</td>\n",
       "      <td id=\"T_3f246_row12_col8\" class=\"data row12 col8\" >0.3830</td>\n",
       "    </tr>\n",
       "    <tr>\n",
       "      <th id=\"T_3f246_level0_row13\" class=\"row_heading level0 row13\" >dummy</th>\n",
       "      <td id=\"T_3f246_row13_col0\" class=\"data row13 col0\" >Dummy Classifier</td>\n",
       "      <td id=\"T_3f246_row13_col1\" class=\"data row13 col1\" >0.1665</td>\n",
       "      <td id=\"T_3f246_row13_col2\" class=\"data row13 col2\" >0.5000</td>\n",
       "      <td id=\"T_3f246_row13_col3\" class=\"data row13 col3\" >0.1665</td>\n",
       "      <td id=\"T_3f246_row13_col4\" class=\"data row13 col4\" >0.0277</td>\n",
       "      <td id=\"T_3f246_row13_col5\" class=\"data row13 col5\" >0.0475</td>\n",
       "      <td id=\"T_3f246_row13_col6\" class=\"data row13 col6\" >0.0000</td>\n",
       "      <td id=\"T_3f246_row13_col7\" class=\"data row13 col7\" >0.0000</td>\n",
       "      <td id=\"T_3f246_row13_col8\" class=\"data row13 col8\" >0.0230</td>\n",
       "    </tr>\n",
       "  </tbody>\n",
       "</table>\n"
      ],
      "text/plain": [
       "<pandas.io.formats.style.Styler at 0x221dfbe9d90>"
      ]
     },
     "metadata": {},
     "output_type": "display_data"
    },
    {
     "data": {
      "text/html": [],
      "text/plain": [
       "<IPython.core.display.HTML object>"
      ]
     },
     "metadata": {},
     "output_type": "display_data"
    }
   ],
   "source": [
    "best_model = compare_models(sort = 'F1')"
   ]
  },
  {
   "cell_type": "code",
   "execution_count": 10,
   "metadata": {},
   "outputs": [
    {
     "data": {
      "text/html": [],
      "text/plain": [
       "<IPython.core.display.HTML object>"
      ]
     },
     "metadata": {},
     "output_type": "display_data"
    },
    {
     "data": {
      "image/png": "[encoded data removed]",
      "text/plain": [
       "<Figure size 600x400 with 2 Axes>"
      ]
     },
     "metadata": {},
     "output_type": "display_data"
    }
   ],
   "source": [
    "from matplotlib import pyplot as plt\n",
    "plt.figure(figsize = (6,4))\n",
    "plot_model(best_model, plot = 'class_report')"
   ]
  },
  {
   "cell_type": "code",
   "execution_count": 11,
   "metadata": {},
   "outputs": [
    {
     "data": {
      "text/html": [],
      "text/plain": [
       "<IPython.core.display.HTML object>"
      ]
     },
     "metadata": {},
     "output_type": "display_data"
    },
    {
     "data": {
      "image/png": "[encoded data removed]",
      "text/plain": [
       "<Figure size 400x300 with 1 Axes>"
      ]
     },
     "metadata": {},
     "output_type": "display_data"
    }
   ],
   "source": [
    "plt.figure(figsize = (4,3))\n",
    "plot_model(best_model, plot = 'confusion_matrix')"
   ]
  },
  {
   "cell_type": "code",
   "execution_count": 12,
   "metadata": {},
   "outputs": [
    {
     "data": {
      "text/html": [],
      "text/plain": [
       "<IPython.core.display.HTML object>"
      ]
     },
     "metadata": {},
     "output_type": "display_data"
    },
    {
     "name": "stdout",
     "output_type": "stream",
     "text": [
      "   Air temperature [K]  Process temperature [K]  Rotational speed [rpm]  \\\n",
      "0             0.333333                 0.500000                0.240396   \n",
      "1             0.444444                 0.500000                0.374272   \n",
      "2             0.222222                 0.375000                0.457509   \n",
      "3             0.777778                 0.625000                0.117459   \n",
      "4             0.333333                 0.375000                0.113980   \n",
      "5             0.518546                 0.510455                0.201339   \n",
      "6             0.540127                 0.715285                0.211650   \n",
      "\n",
      "   Torque [Nm]  Tool wear [min]  Type_H  Type_L  Type_M  prediction_label  \\\n",
      "0     0.369863         0.256917     0.0     0.0     1.0                 1   \n",
      "1     0.287671         0.304348     1.0     0.0     0.0                 1   \n",
      "2     0.246575         0.166008     0.0     1.0     0.0                 1   \n",
      "3     0.630137         0.147121     0.0     1.0     0.0                 0   \n",
      "4     0.726027         0.854089     0.0     0.0     1.0                 1   \n",
      "5     0.520568         0.402466     1.0     0.0     0.0                 4   \n",
      "6     0.426176         0.832673     0.0     1.0     0.0                 5   \n",
      "\n",
      "   prediction_score  \n",
      "0            1.0000  \n",
      "1            1.0000  \n",
      "2            1.0000  \n",
      "3            0.9999  \n",
      "4            0.9977  \n",
      "5            0.9999  \n",
      "6            0.9998  \n"
     ]
    }
   ],
   "source": [
    "dummy_data = {\n",
    "    'Air temperature [K]': [0.3333333333333286, 0.44444444444444287, 0.22222222222222143, \n",
    "                            0.7777777777777786, 0.3333333333333286, 0.5185455720329861, 0.5401266308704736],\n",
    "    'Process temperature [K]': [0.5, 0.5, 0.375, 0.625, 0.375, 0.5104547106713903, 0.7152849194585769],\n",
    "    'Rotational speed [rpm]': [0.24039580908032598, 0.3742724097788127, 0.45750873108265433, \n",
    "                               0.11745928319466402, 0.11397964130389841, 0.20133893627883215, 0.2116504717034246],\n",
    "    'Torque [Nm]': [0.3698630136986301, 0.2876712328767123, 0.2465753424657534, 0.6301369863013699, \n",
    "                    0.726027397260274, 0.5205679573942655, 0.4261764736619937],\n",
    "    'Tool wear [min]': [0.2569169960474308, 0.3043478260869565, 0.1660079051383399, 0.14712147436778086, \n",
    "                        0.8540889831344971, 0.40246624225521516, 0.8326732168616138],\n",
    "    'Type_H': [0.0, 1.0, 0.0, 0.0, 0.0, 1.0, 0.0],\n",
    "    'Type_L': [0.0, 0.0, 1.0, 1.0, 0.0, 0.0, 1.0],\n",
    "    'Type_M': [1.0, 0.0, 0.0, 0.0, 1.0, 0.0, 0.0]\n",
    "}\n",
    "dummy_df = pd.DataFrame(dummy_data)\n",
    "\n",
    "# Train the best model obtained from compare_models\n",
    "\n",
    "\n",
    "# Make predictions\n",
    "predictions = predict_model(best_model, data=dummy_df)\n",
    "\n",
    "# Display predictions\n",
    "print(predictions)"
   ]
  },
  {
   "cell_type": "code",
   "execution_count": 13,
   "metadata": {},
   "outputs": [
    {
     "name": "stdout",
     "output_type": "stream",
     "text": [
      "Transformation Pipeline and Model Successfully Saved\n"
     ]
    },
    {
     "data": {
      "text/plain": [
       "(Pipeline(memory=Memory(location=None),\n",
       "          steps=[('numerical_imputer',\n",
       "                  TransformerWrapper(exclude=None,\n",
       "                                     include=['Air temperature [K]',\n",
       "                                              'Process temperature [K]',\n",
       "                                              'Rotational speed [rpm]',\n",
       "                                              'Torque [Nm]', 'Tool wear [min]',\n",
       "                                              'Type_H', 'Type_L', 'Type_M'],\n",
       "                                     transformer=SimpleImputer(add_indicator=False,\n",
       "                                                               copy=True,\n",
       "                                                               fill_value=None,\n",
       "                                                               keep_empty_features=False,\n",
       "                                                               missing_values=nan,\n",
       "                                                               st...\n",
       "                  LGBMClassifier(boosting_type='gbdt', class_weight=None,\n",
       "                                 colsample_bytree=1.0, importance_type='split',\n",
       "                                 learning_rate=0.1, max_depth=-1,\n",
       "                                 min_child_samples=20, min_child_weight=0.001,\n",
       "                                 min_split_gain=0.0, n_estimators=100, n_jobs=-1,\n",
       "                                 num_leaves=31, objective=None, random_state=42,\n",
       "                                 reg_alpha=0.0, reg_lambda=0.0, subsample=1.0,\n",
       "                                 subsample_for_bin=200000, subsample_freq=0))],\n",
       "          verbose=False),\n",
       " 'predictive_maintenance.pkl')"
      ]
     },
     "execution_count": 13,
     "metadata": {},
     "output_type": "execute_result"
    }
   ],
   "source": [
    "save_model(best_model, 'predictive_maintenance')"
   ]
  },
  {
   "cell_type": "code",
   "execution_count": 2,
   "metadata": {},
   "outputs": [
    {
     "data": {
      "text/plain": [
       "'1.4.2'"
      ]
     },
     "execution_count": 2,
     "metadata": {},
     "output_type": "execute_result"
    }
   ],
   "source": []
  }
 ],
 "metadata": {
  "kernelspec": {
   "display_name": "Python 3",
   "language": "python",
   "name": "python3"
  },
  "language_info": {
   "codemirror_mode": {
    "name": "ipython",
    "version": 3
   },
   "file_extension": ".py",
   "mimetype": "text/x-python",
   "name": "python",
   "nbconvert_exporter": "python",
   "pygments_lexer": "ipython3",
   "version": "3.11.9"
  }
 },
 "nbformat": 4,
 "nbformat_minor": 2
}
